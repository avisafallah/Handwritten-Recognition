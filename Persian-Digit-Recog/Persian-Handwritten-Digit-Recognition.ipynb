{
  "cells": [
    {
      "cell_type": "markdown",
      "id": "fcfd84e7",
      "metadata": {
        "id": "fcfd84e7"
      },
      "source": [
        "# MathLab Project\n",
        "## Avisa Fallah\n",
        "## 610398208\n",
        "\n"
      ]
    },
    {
      "cell_type": "markdown",
      "source": [
        "## Goal\n",
        "In this assignment, we're going to train a neural network on a handwritten persian digits dataset. Let's start!\n",
        "\n",
        "## Overall approach\n",
        "In order to train the network, we first need to read the datasets, then apply some preprocessing and after that, train the model and see the impact of hyperparameters on the accuracy of the model. Let's import some useful libraries:"
      ],
      "metadata": {
        "id": "rihmcxZJtaSN"
      },
      "id": "rihmcxZJtaSN"
    },
    {
      "cell_type": "markdown",
      "source": [
        "### Libraries"
      ],
      "metadata": {
        "id": "bMCYUGVTvSGz"
      },
      "id": "bMCYUGVTvSGz"
    },
    {
      "cell_type": "code",
      "source": [
        "import cv2\n",
        "import pickle\n",
        "\n",
        "import numpy as np\n",
        "import pandas as pd\n",
        "import matplotlib.pyplot as plt\n",
        "\n",
        "from sklearn.model_selection import train_test_split\n",
        "from sklearn.preprocessing import LabelEncoder, OneHotEncoder\n",
        "\n",
        "import random"
      ],
      "metadata": {
        "id": "muCuTmEat0k-"
      },
      "id": "muCuTmEat0k-",
      "execution_count": null,
      "outputs": []
    },
    {
      "cell_type": "markdown",
      "source": [
        "Let's import the dataset using pickle:"
      ],
      "metadata": {
        "id": "Yi9BqYGd0iim"
      },
      "id": "Yi9BqYGd0iim"
    },
    {
      "cell_type": "markdown",
      "id": "4f78a582",
      "metadata": {
        "id": "4f78a582"
      },
      "source": [
        "### Read pkl files"
      ]
    },
    {
      "cell_type": "code",
      "execution_count": null,
      "id": "c702e099",
      "metadata": {
        "id": "c702e099"
      },
      "outputs": [],
      "source": [
        "pkl_data = open('data.pkl', 'rb')\n",
        "pkl_labels = open('labels.pkl', 'rb')\n",
        "\n",
        "data = pickle.load(pkl_data)\n",
        "labels = pickle.load(pkl_labels)"
      ]
    },
    {
      "cell_type": "markdown",
      "id": "17c0ad8d",
      "metadata": {
        "id": "17c0ad8d"
      },
      "source": [
        "## Section 1: Preprocessing\n",
        "\n",
        "### 1. Showing a random image"
      ]
    },
    {
      "cell_type": "code",
      "execution_count": null,
      "id": "9ee4b5ea",
      "metadata": {
        "colab": {
          "base_uri": "https://localhost:8080/",
          "height": 388
        },
        "id": "9ee4b5ea",
        "outputId": "556b8924-970a-47af-dac4-02f28f742949"
      },
      "outputs": [
        {
          "output_type": "execute_result",
          "data": {
            "text/plain": [
              "array([[  0,   0,   0, ...,   0,   0,   0],\n",
              "       [  0,   0,   0, ...,   0,   0,   0],\n",
              "       [  0,   0,   0, ...,   0,   0,   0],\n",
              "       ...,\n",
              "       [  0,   0,   0, ..., 255, 255,   0],\n",
              "       [  0,   0,   0, ..., 255, 255, 255],\n",
              "       [  0,   0,   0, ...,   0, 255, 255]], dtype=uint8)"
            ]
          },
          "metadata": {},
          "execution_count": 45
        },
        {
          "output_type": "display_data",
          "data": {
            "text/plain": [
              "<Figure size 432x288 with 1 Axes>"
            ],
            "image/png": "[encoded data removed]"
          },
          "metadata": {
            "needs_background": "light"
          }
        }
      ],
      "source": [
        "random_num = random.randint(0,len(data) - 1)\n",
        "plt.imshow(data[random_num])\n",
        "data[random_num]"
      ]
    },
    {
      "cell_type": "markdown",
      "id": "f04a42ea",
      "metadata": {
        "id": "f04a42ea"
      },
      "source": [
        "### 2.Resizing all images"
      ]
    },
    {
      "cell_type": "code",
      "execution_count": null,
      "id": "74cc8935",
      "metadata": {
        "colab": {
          "base_uri": "https://localhost:8080/",
          "height": 282
        },
        "id": "74cc8935",
        "outputId": "c6f375be-8698-4e5e-d498-ffb6475e665b"
      },
      "outputs": [
        {
          "output_type": "execute_result",
          "data": {
            "text/plain": [
              "<matplotlib.image.AxesImage at 0x7f3e13414ac0>"
            ]
          },
          "metadata": {},
          "execution_count": 46
        },
        {
          "output_type": "display_data",
          "data": {
            "text/plain": [
              "<Figure size 432x288 with 1 Axes>"
            ],
            "image/png": "[encoded data removed]"
          },
          "metadata": {
            "needs_background": "light"
          }
        }
      ],
      "source": [
        "import cv2\n",
        "\n",
        "resized_data = []\n",
        "\n",
        "for img in data:\n",
        "    resized_data.append(cv2.resize(img, dsize=(25, 25), interpolation=cv2.INTER_CUBIC))\n",
        "\n",
        "plt.imshow(resized_data[random_num])"
      ]
    },
    {
      "cell_type": "markdown",
      "id": "511bbdcc",
      "metadata": {
        "id": "511bbdcc"
      },
      "source": [
        "### 3. Images of each class(numbers 0 to 9)"
      ]
    },
    {
      "cell_type": "code",
      "execution_count": null,
      "id": "ee7db99f",
      "metadata": {
        "colab": {
          "base_uri": "https://localhost:8080/",
          "height": 1000
        },
        "id": "ee7db99f",
        "outputId": "586e875c-4dfd-4b08-a0fd-f2414bc0cbe3"
      },
      "outputs": [
        {
          "output_type": "stream",
          "name": "stdout",
          "text": [
            "Image of class 0\n"
          ]
        },
        {
          "output_type": "display_data",
          "data": {
            "text/plain": [
              "<Figure size 432x288 with 1 Axes>"
            ],
            "image/png": "[encoded data removed]"
          },
          "metadata": {
            "needs_background": "light"
          }
        },
        {
          "output_type": "stream",
          "name": "stdout",
          "text": [
            "Image of class 1\n"
          ]
        },
        {
          "output_type": "display_data",
          "data": {
            "text/plain": [
              "<Figure size 432x288 with 1 Axes>"
            ],
            "image/png": "[encoded data removed]"
          },
          "metadata": {
            "needs_background": "light"
          }
        },
        {
          "output_type": "stream",
          "name": "stdout",
          "text": [
            "Image of class 2\n"
          ]
        },
        {
          "output_type": "display_data",
          "data": {
            "text/plain": [
              "<Figure size 432x288 with 1 Axes>"
            ],
            "image/png": "[encoded data removed]"
          },
          "metadata": {
            "needs_background": "light"
          }
        },
        {
          "output_type": "stream",
          "name": "stdout",
          "text": [
            "Image of class 3\n"
          ]
        },
        {
          "output_type": "display_data",
          "data": {
            "text/plain": [
              "<Figure size 432x288 with 1 Axes>"
            ],
            "image/png": "[encoded data removed]"
          },
          "metadata": {
            "needs_background": "light"
          }
        },
        {
          "output_type": "stream",
          "name": "stdout",
          "text": [
            "Image of class 4\n"
          ]
        },
        {
          "output_type": "display_data",
          "data": {
            "text/plain": [
              "<Figure size 432x288 with 1 Axes>"
            ],
            "image/png": "[encoded data removed]"
          },
          "metadata": {
            "needs_background": "light"
          }
        },
        {
          "output_type": "stream",
          "name": "stdout",
          "text": [
            "Image of class 5\n"
          ]
        },
        {
          "output_type": "display_data",
          "data": {
            "text/plain": [
              "<Figure size 432x288 with 1 Axes>"
            ],
            "image/png": "[encoded data removed]"
          },
          "metadata": {
            "needs_background": "light"
          }
        },
        {
          "output_type": "stream",
          "name": "stdout",
          "text": [
            "Image of class 6\n"
          ]
        },
        {
          "output_type": "display_data",
          "data": {
            "text/plain": [
              "<Figure size 432x288 with 1 Axes>"
            ],
            "image/png": "[encoded data removed]"
          },
          "metadata": {
            "needs_background": "light"
          }
        },
        {
          "output_type": "stream",
          "name": "stdout",
          "text": [
            "Image of class 7\n"
          ]
        },
        {
          "output_type": "display_data",
          "data": {
            "text/plain": [
              "<Figure size 432x288 with 1 Axes>"
            ],
            "image/png": "[encoded data removed]"
          },
          "metadata": {
            "needs_background": "light"
          }
        },
        {
          "output_type": "stream",
          "name": "stdout",
          "text": [
            "Image of class 8\n"
          ]
        },
        {
          "output_type": "display_data",
          "data": {
            "text/plain": [
              "<Figure size 432x288 with 1 Axes>"
            ],
            "image/png": "[encoded data removed]"
          },
          "metadata": {
            "needs_background": "light"
          }
        },
        {
          "output_type": "stream",
          "name": "stdout",
          "text": [
            "Image of class 9\n"
          ]
        },
        {
          "output_type": "display_data",
          "data": {
            "text/plain": [
              "<Figure size 432x288 with 1 Axes>"
            ],
            "image/png": "[encoded data removed]"
          },
          "metadata": {
            "needs_background": "light"
          }
        }
      ],
      "source": [
        "for i in range(0, 10):\n",
        "    index = labels.index(i)\n",
        "    print(\"Image of class\", i)\n",
        "    plt.imshow(resized_data[index])\n",
        "    plt.show()"
      ]
    },
    {
      "cell_type": "markdown",
      "id": "1c50f39f",
      "metadata": {
        "id": "1c50f39f"
      },
      "source": [
        "### split train and test data"
      ]
    },
    {
      "cell_type": "code",
      "execution_count": null,
      "id": "375f44a6",
      "metadata": {
        "colab": {
          "base_uri": "https://localhost:8080/",
          "height": 1000
        },
        "id": "375f44a6",
        "outputId": "a75c332e-df03-48ae-fe92-27bd1ff72e06"
      },
      "outputs": [
        {
          "output_type": "display_data",
          "data": {
            "text/plain": [
              "                                                    image  label\n",
              "0       [[0, 0, 0, 0, 29, 235, 255, 132, 0, 0, 0, 0, 0...      6\n",
              "1       [[0, 0, 0, 0, 0, 0, 0, 0, 0, 1, 0, 20, 255, 25...      5\n",
              "2       [[0, 99, 255, 255, 255, 255, 255, 255, 255, 25...      0\n",
              "3       [[0, 0, 0, 0, 0, 0, 0, 0, 0, 0, 0, 0, 0, 0, 0,...      2\n",
              "4       [[0, 0, 0, 0, 0, 0, 0, 0, 0, 0, 0, 0, 0, 0, 0,...      7\n",
              "...                                                   ...    ...\n",
              "102347  [[0, 0, 0, 0, 0, 0, 144, 237, 29, 0, 0, 0, 0, ...      6\n",
              "102348  [[0, 0, 11, 89, 173, 237, 253, 209, 131, 46, 0...      1\n",
              "102349  [[0, 0, 0, 1, 2, 0, 0, 0, 0, 95, 246, 255, 255...      0\n",
              "102350  [[0, 0, 0, 0, 0, 0, 0, 0, 255, 255, 255, 161, ...      8\n",
              "102351  [[0, 0, 0, 0, 0, 74, 115, 255, 255, 255, 186, ...      9\n",
              "\n",
              "[102352 rows x 2 columns]"
            ],
            "text/html": [
              "\n",
              "  <div id=\"df-b32ed611-e147-4603-9ea3-40b7c1f09523\">\n",
              "    <div class=\"colab-df-container\">\n",
              "      <div>\n",
              "<style scoped>\n",
              "    .dataframe tbody tr th:only-of-type {\n",
              "        vertical-align: middle;\n",
              "    }\n",
              "\n",
              "    .dataframe tbody tr th {\n",
              "        vertical-align: top;\n",
              "    }\n",
              "\n",
              "    .dataframe thead th {\n",
              "        text-align: right;\n",
              "    }\n",
              "</style>\n",
              "<table border=\"1\" class=\"dataframe\">\n",
              "  <thead>\n",
              "    <tr style=\"text-align: right;\">\n",
              "      <th></th>\n",
              "      <th>image</th>\n",
              "      <th>label</th>\n",
              "    </tr>\n",
              "  </thead>\n",
              "  <tbody>\n",
              "    <tr>\n",
              "      <th>0</th>\n",
              "      <td>[[0, 0, 0, 0, 29, 235, 255, 132, 0, 0, 0, 0, 0...</td>\n",
              "      <td>6</td>\n",
              "    </tr>\n",
              "    <tr>\n",
              "      <th>1</th>\n",
              "      <td>[[0, 0, 0, 0, 0, 0, 0, 0, 0, 1, 0, 20, 255, 25...</td>\n",
              "      <td>5</td>\n",
              "    </tr>\n",
              "    <tr>\n",
              "      <th>2</th>\n",
              "      <td>[[0, 99, 255, 255, 255, 255, 255, 255, 255, 25...</td>\n",
              "      <td>0</td>\n",
              "    </tr>\n",
              "    <tr>\n",
              "      <th>3</th>\n",
              "      <td>[[0, 0, 0, 0, 0, 0, 0, 0, 0, 0, 0, 0, 0, 0, 0,...</td>\n",
              "      <td>2</td>\n",
              "    </tr>\n",
              "    <tr>\n",
              "      <th>4</th>\n",
              "      <td>[[0, 0, 0, 0, 0, 0, 0, 0, 0, 0, 0, 0, 0, 0, 0,...</td>\n",
              "      <td>7</td>\n",
              "    </tr>\n",
              "    <tr>\n",
              "      <th>...</th>\n",
              "      <td>...</td>\n",
              "      <td>...</td>\n",
              "    </tr>\n",
              "    <tr>\n",
              "      <th>102347</th>\n",
              "      <td>[[0, 0, 0, 0, 0, 0, 144, 237, 29, 0, 0, 0, 0, ...</td>\n",
              "      <td>6</td>\n",
              "    </tr>\n",
              "    <tr>\n",
              "      <th>102348</th>\n",
              "      <td>[[0, 0, 11, 89, 173, 237, 253, 209, 131, 46, 0...</td>\n",
              "      <td>1</td>\n",
              "    </tr>\n",
              "    <tr>\n",
              "      <th>102349</th>\n",
              "      <td>[[0, 0, 0, 1, 2, 0, 0, 0, 0, 95, 246, 255, 255...</td>\n",
              "      <td>0</td>\n",
              "    </tr>\n",
              "    <tr>\n",
              "      <th>102350</th>\n",
              "      <td>[[0, 0, 0, 0, 0, 0, 0, 0, 255, 255, 255, 161, ...</td>\n",
              "      <td>8</td>\n",
              "    </tr>\n",
              "    <tr>\n",
              "      <th>102351</th>\n",
              "      <td>[[0, 0, 0, 0, 0, 74, 115, 255, 255, 255, 186, ...</td>\n",
              "      <td>9</td>\n",
              "    </tr>\n",
              "  </tbody>\n",
              "</table>\n",
              "<p>102352 rows × 2 columns</p>\n",
              "</div>\n",
              "      <button class=\"colab-df-convert\" onclick=\"convertToInteractive('df-b32ed611-e147-4603-9ea3-40b7c1f09523')\"\n",
              "              title=\"Convert this dataframe to an interactive table.\"\n",
              "              style=\"display:none;\">\n",
              "        \n",
              "  <svg xmlns=\"http://www.w3.org/2000/svg\" height=\"24px\"viewBox=\"0 0 24 24\"\n",
              "       width=\"24px\">\n",
              "    <path d=\"M0 0h24v24H0V0z\" fill=\"none\"/>\n",
              "    <path d=\"M18.56 5.44l.94 2.06.94-2.06 2.06-.94-2.06-.94-.94-2.06-.94 2.06-2.06.94zm-11 1L8.5 8.5l.94-2.06 2.06-.94-2.06-.94L8.5 2.5l-.94 2.06-2.06.94zm10 10l.94 2.06.94-2.06 2.06-.94-2.06-.94-.94-2.06-.94 2.06-2.06.94z\"/><path d=\"M17.41 7.96l-1.37-1.37c-.4-.4-.92-.59-1.43-.59-.52 0-1.04.2-1.43.59L10.3 9.45l-7.72 7.72c-.78.78-.78 2.05 0 2.83L4 21.41c.39.39.9.59 1.41.59.51 0 1.02-.2 1.41-.59l7.78-7.78 2.81-2.81c.8-.78.8-2.07 0-2.86zM5.41 20L4 18.59l7.72-7.72 1.47 1.35L5.41 20z\"/>\n",
              "  </svg>\n",
              "      </button>\n",
              "      \n",
              "  <style>\n",
              "    .colab-df-container {\n",
              "      display:flex;\n",
              "      flex-wrap:wrap;\n",
              "      gap: 12px;\n",
              "    }\n",
              "\n",
              "    .colab-df-convert {\n",
              "      background-color: #E8F0FE;\n",
              "      border: none;\n",
              "      border-radius: 50%;\n",
              "      cursor: pointer;\n",
              "      display: none;\n",
              "      fill: #1967D2;\n",
              "      height: 32px;\n",
              "      padding: 0 0 0 0;\n",
              "      width: 32px;\n",
              "    }\n",
              "\n",
              "    .colab-df-convert:hover {\n",
              "      background-color: #E2EBFA;\n",
              "      box-shadow: 0px 1px 2px rgba(60, 64, 67, 0.3), 0px 1px 3px 1px rgba(60, 64, 67, 0.15);\n",
              "      fill: #174EA6;\n",
              "    }\n",
              "\n",
              "    [theme=dark] .colab-df-convert {\n",
              "      background-color: #3B4455;\n",
              "      fill: #D2E3FC;\n",
              "    }\n",
              "\n",
              "    [theme=dark] .colab-df-convert:hover {\n",
              "      background-color: #434B5C;\n",
              "      box-shadow: 0px 1px 3px 1px rgba(0, 0, 0, 0.15);\n",
              "      filter: drop-shadow(0px 1px 2px rgba(0, 0, 0, 0.3));\n",
              "      fill: #FFFFFF;\n",
              "    }\n",
              "  </style>\n",
              "\n",
              "      <script>\n",
              "        const buttonEl =\n",
              "          document.querySelector('#df-b32ed611-e147-4603-9ea3-40b7c1f09523 button.colab-df-convert');\n",
              "        buttonEl.style.display =\n",
              "          google.colab.kernel.accessAllowed ? 'block' : 'none';\n",
              "\n",
              "        async function convertToInteractive(key) {\n",
              "          const element = document.querySelector('#df-b32ed611-e147-4603-9ea3-40b7c1f09523');\n",
              "          const dataTable =\n",
              "            await google.colab.kernel.invokeFunction('convertToInteractive',\n",
              "                                                     [key], {});\n",
              "          if (!dataTable) return;\n",
              "\n",
              "          const docLinkHtml = 'Like what you see? Visit the ' +\n",
              "            '<a target=\"_blank\" href=https://colab.research.google.com/notebooks/data_table.ipynb>data table notebook</a>'\n",
              "            + ' to learn more about interactive tables.';\n",
              "          element.innerHTML = '';\n",
              "          dataTable['output_type'] = 'display_data';\n",
              "          await google.colab.output.renderOutput(dataTable, element);\n",
              "          const docLink = document.createElement('div');\n",
              "          docLink.innerHTML = docLinkHtml;\n",
              "          element.appendChild(docLink);\n",
              "        }\n",
              "      </script>\n",
              "    </div>\n",
              "  </div>\n",
              "  "
            ]
          },
          "metadata": {}
        },
        {
          "output_type": "display_data",
          "data": {
            "text/plain": [
              "                                                   image\n",
              "68352  [[0, 0, 0, 0, 0, 0, 0, 0, 0, 0, 0, 0, 0, 0, 55...\n",
              "8790   [[0, 0, 0, 8, 65, 147, 226, 255, 255, 255, 201...\n",
              "76265  [[0, 0, 0, 0, 0, 0, 0, 0, 101, 255, 225, 17, 0...\n",
              "53786  [[255, 255, 255, 248, 148, 42, 0, 0, 0, 0, 0, ...\n",
              "90256  [[0, 0, 0, 0, 0, 0, 0, 0, 0, 0, 0, 0, 0, 0, 0,...\n",
              "...                                                  ...\n",
              "6265   [[0, 0, 0, 0, 0, 0, 0, 1, 0, 39, 255, 255, 255...\n",
              "54886  [[11, 55, 166, 250, 220, 111, 19, 0, 1, 0, 0, ...\n",
              "76820  [[0, 0, 0, 0, 0, 0, 0, 0, 0, 3, 113, 255, 255,...\n",
              "860    [[0, 0, 0, 0, 0, 0, 0, 0, 0, 4, 29, 45, 255, 2...\n",
              "15795  [[0, 0, 0, 0, 0, 1, 0, 120, 255, 233, 8, 0, 1,...\n",
              "\n",
              "[81881 rows x 1 columns]"
            ],
            "text/html": [
              "\n",
              "  <div id=\"df-3592c0b7-c3b0-4f8b-b505-146e2b7567f2\">\n",
              "    <div class=\"colab-df-container\">\n",
              "      <div>\n",
              "<style scoped>\n",
              "    .dataframe tbody tr th:only-of-type {\n",
              "        vertical-align: middle;\n",
              "    }\n",
              "\n",
              "    .dataframe tbody tr th {\n",
              "        vertical-align: top;\n",
              "    }\n",
              "\n",
              "    .dataframe thead th {\n",
              "        text-align: right;\n",
              "    }\n",
              "</style>\n",
              "<table border=\"1\" class=\"dataframe\">\n",
              "  <thead>\n",
              "    <tr style=\"text-align: right;\">\n",
              "      <th></th>\n",
              "      <th>image</th>\n",
              "    </tr>\n",
              "  </thead>\n",
              "  <tbody>\n",
              "    <tr>\n",
              "      <th>68352</th>\n",
              "      <td>[[0, 0, 0, 0, 0, 0, 0, 0, 0, 0, 0, 0, 0, 0, 55...</td>\n",
              "    </tr>\n",
              "    <tr>\n",
              "      <th>8790</th>\n",
              "      <td>[[0, 0, 0, 8, 65, 147, 226, 255, 255, 255, 201...</td>\n",
              "    </tr>\n",
              "    <tr>\n",
              "      <th>76265</th>\n",
              "      <td>[[0, 0, 0, 0, 0, 0, 0, 0, 101, 255, 225, 17, 0...</td>\n",
              "    </tr>\n",
              "    <tr>\n",
              "      <th>53786</th>\n",
              "      <td>[[255, 255, 255, 248, 148, 42, 0, 0, 0, 0, 0, ...</td>\n",
              "    </tr>\n",
              "    <tr>\n",
              "      <th>90256</th>\n",
              "      <td>[[0, 0, 0, 0, 0, 0, 0, 0, 0, 0, 0, 0, 0, 0, 0,...</td>\n",
              "    </tr>\n",
              "    <tr>\n",
              "      <th>...</th>\n",
              "      <td>...</td>\n",
              "    </tr>\n",
              "    <tr>\n",
              "      <th>6265</th>\n",
              "      <td>[[0, 0, 0, 0, 0, 0, 0, 1, 0, 39, 255, 255, 255...</td>\n",
              "    </tr>\n",
              "    <tr>\n",
              "      <th>54886</th>\n",
              "      <td>[[11, 55, 166, 250, 220, 111, 19, 0, 1, 0, 0, ...</td>\n",
              "    </tr>\n",
              "    <tr>\n",
              "      <th>76820</th>\n",
              "      <td>[[0, 0, 0, 0, 0, 0, 0, 0, 0, 3, 113, 255, 255,...</td>\n",
              "    </tr>\n",
              "    <tr>\n",
              "      <th>860</th>\n",
              "      <td>[[0, 0, 0, 0, 0, 0, 0, 0, 0, 4, 29, 45, 255, 2...</td>\n",
              "    </tr>\n",
              "    <tr>\n",
              "      <th>15795</th>\n",
              "      <td>[[0, 0, 0, 0, 0, 1, 0, 120, 255, 233, 8, 0, 1,...</td>\n",
              "    </tr>\n",
              "  </tbody>\n",
              "</table>\n",
              "<p>81881 rows × 1 columns</p>\n",
              "</div>\n",
              "      <button class=\"colab-df-convert\" onclick=\"convertToInteractive('df-3592c0b7-c3b0-4f8b-b505-146e2b7567f2')\"\n",
              "              title=\"Convert this dataframe to an interactive table.\"\n",
              "              style=\"display:none;\">\n",
              "        \n",
              "  <svg xmlns=\"http://www.w3.org/2000/svg\" height=\"24px\"viewBox=\"0 0 24 24\"\n",
              "       width=\"24px\">\n",
              "    <path d=\"M0 0h24v24H0V0z\" fill=\"none\"/>\n",
              "    <path d=\"M18.56 5.44l.94 2.06.94-2.06 2.06-.94-2.06-.94-.94-2.06-.94 2.06-2.06.94zm-11 1L8.5 8.5l.94-2.06 2.06-.94-2.06-.94L8.5 2.5l-.94 2.06-2.06.94zm10 10l.94 2.06.94-2.06 2.06-.94-2.06-.94-.94-2.06-.94 2.06-2.06.94z\"/><path d=\"M17.41 7.96l-1.37-1.37c-.4-.4-.92-.59-1.43-.59-.52 0-1.04.2-1.43.59L10.3 9.45l-7.72 7.72c-.78.78-.78 2.05 0 2.83L4 21.41c.39.39.9.59 1.41.59.51 0 1.02-.2 1.41-.59l7.78-7.78 2.81-2.81c.8-.78.8-2.07 0-2.86zM5.41 20L4 18.59l7.72-7.72 1.47 1.35L5.41 20z\"/>\n",
              "  </svg>\n",
              "      </button>\n",
              "      \n",
              "  <style>\n",
              "    .colab-df-container {\n",
              "      display:flex;\n",
              "      flex-wrap:wrap;\n",
              "      gap: 12px;\n",
              "    }\n",
              "\n",
              "    .colab-df-convert {\n",
              "      background-color: #E8F0FE;\n",
              "      border: none;\n",
              "      border-radius: 50%;\n",
              "      cursor: pointer;\n",
              "      display: none;\n",
              "      fill: #1967D2;\n",
              "      height: 32px;\n",
              "      padding: 0 0 0 0;\n",
              "      width: 32px;\n",
              "    }\n",
              "\n",
              "    .colab-df-convert:hover {\n",
              "      background-color: #E2EBFA;\n",
              "      box-shadow: 0px 1px 2px rgba(60, 64, 67, 0.3), 0px 1px 3px 1px rgba(60, 64, 67, 0.15);\n",
              "      fill: #174EA6;\n",
              "    }\n",
              "\n",
              "    [theme=dark] .colab-df-convert {\n",
              "      background-color: #3B4455;\n",
              "      fill: #D2E3FC;\n",
              "    }\n",
              "\n",
              "    [theme=dark] .colab-df-convert:hover {\n",
              "      background-color: #434B5C;\n",
              "      box-shadow: 0px 1px 3px 1px rgba(0, 0, 0, 0.15);\n",
              "      filter: drop-shadow(0px 1px 2px rgba(0, 0, 0, 0.3));\n",
              "      fill: #FFFFFF;\n",
              "    }\n",
              "  </style>\n",
              "\n",
              "      <script>\n",
              "        const buttonEl =\n",
              "          document.querySelector('#df-3592c0b7-c3b0-4f8b-b505-146e2b7567f2 button.colab-df-convert');\n",
              "        buttonEl.style.display =\n",
              "          google.colab.kernel.accessAllowed ? 'block' : 'none';\n",
              "\n",
              "        async function convertToInteractive(key) {\n",
              "          const element = document.querySelector('#df-3592c0b7-c3b0-4f8b-b505-146e2b7567f2');\n",
              "          const dataTable =\n",
              "            await google.colab.kernel.invokeFunction('convertToInteractive',\n",
              "                                                     [key], {});\n",
              "          if (!dataTable) return;\n",
              "\n",
              "          const docLinkHtml = 'Like what you see? Visit the ' +\n",
              "            '<a target=\"_blank\" href=https://colab.research.google.com/notebooks/data_table.ipynb>data table notebook</a>'\n",
              "            + ' to learn more about interactive tables.';\n",
              "          element.innerHTML = '';\n",
              "          dataTable['output_type'] = 'display_data';\n",
              "          await google.colab.output.renderOutput(dataTable, element);\n",
              "          const docLink = document.createElement('div');\n",
              "          docLink.innerHTML = docLinkHtml;\n",
              "          element.appendChild(docLink);\n",
              "        }\n",
              "      </script>\n",
              "    </div>\n",
              "  </div>\n",
              "  "
            ]
          },
          "metadata": {}
        },
        {
          "output_type": "display_data",
          "data": {
            "text/plain": [
              "68352    4\n",
              "8790     1\n",
              "76265    8\n",
              "53786    1\n",
              "90256    7\n",
              "        ..\n",
              "6265     5\n",
              "54886    1\n",
              "76820    8\n",
              "860      9\n",
              "15795    8\n",
              "Name: label, Length: 81881, dtype: int64"
            ]
          },
          "metadata": {}
        },
        {
          "output_type": "display_data",
          "data": {
            "text/plain": [
              "                                                   image\n",
              "90439  [[0, 0, 0, 0, 0, 0, 0, 0, 0, 0, 0, 0, 0, 0, 5,...\n",
              "55194  [[0, 0, 12, 69, 183, 255, 189, 50, 0, 0, 0, 0,...\n",
              "49340  [[0, 40, 138, 236, 255, 255, 236, 140, 41, 0, ...\n",
              "76916  [[0, 0, 0, 0, 0, 0, 0, 0, 0, 0, 222, 110, 0, 0...\n",
              "1045   [[0, 6, 16, 18, 16, 16, 18, 16, 6, 0, 0, 0, 0,...\n",
              "...                                                  ...\n",
              "94512  [[0, 0, 0, 0, 0, 0, 0, 0, 0, 0, 110, 246, 255,...\n",
              "95609  [[0, 0, 0, 0, 0, 1, 6, 12, 36, 87, 147, 206, 2...\n",
              "62924  [[0, 150, 255, 251, 60, 0, 0, 0, 0, 0, 0, 0, 0...\n",
              "96623  [[2, 2, 0, 0, 0, 0, 0, 0, 29, 86, 148, 207, 25...\n",
              "34690  [[0, 0, 0, 0, 0, 0, 0, 0, 0, 0, 0, 40, 255, 40...\n",
              "\n",
              "[20471 rows x 1 columns]"
            ],
            "text/html": [
              "\n",
              "  <div id=\"df-79125417-2617-4dd0-92c2-ce458b50a88f\">\n",
              "    <div class=\"colab-df-container\">\n",
              "      <div>\n",
              "<style scoped>\n",
              "    .dataframe tbody tr th:only-of-type {\n",
              "        vertical-align: middle;\n",
              "    }\n",
              "\n",
              "    .dataframe tbody tr th {\n",
              "        vertical-align: top;\n",
              "    }\n",
              "\n",
              "    .dataframe thead th {\n",
              "        text-align: right;\n",
              "    }\n",
              "</style>\n",
              "<table border=\"1\" class=\"dataframe\">\n",
              "  <thead>\n",
              "    <tr style=\"text-align: right;\">\n",
              "      <th></th>\n",
              "      <th>image</th>\n",
              "    </tr>\n",
              "  </thead>\n",
              "  <tbody>\n",
              "    <tr>\n",
              "      <th>90439</th>\n",
              "      <td>[[0, 0, 0, 0, 0, 0, 0, 0, 0, 0, 0, 0, 0, 0, 5,...</td>\n",
              "    </tr>\n",
              "    <tr>\n",
              "      <th>55194</th>\n",
              "      <td>[[0, 0, 12, 69, 183, 255, 189, 50, 0, 0, 0, 0,...</td>\n",
              "    </tr>\n",
              "    <tr>\n",
              "      <th>49340</th>\n",
              "      <td>[[0, 40, 138, 236, 255, 255, 236, 140, 41, 0, ...</td>\n",
              "    </tr>\n",
              "    <tr>\n",
              "      <th>76916</th>\n",
              "      <td>[[0, 0, 0, 0, 0, 0, 0, 0, 0, 0, 222, 110, 0, 0...</td>\n",
              "    </tr>\n",
              "    <tr>\n",
              "      <th>1045</th>\n",
              "      <td>[[0, 6, 16, 18, 16, 16, 18, 16, 6, 0, 0, 0, 0,...</td>\n",
              "    </tr>\n",
              "    <tr>\n",
              "      <th>...</th>\n",
              "      <td>...</td>\n",
              "    </tr>\n",
              "    <tr>\n",
              "      <th>94512</th>\n",
              "      <td>[[0, 0, 0, 0, 0, 0, 0, 0, 0, 0, 110, 246, 255,...</td>\n",
              "    </tr>\n",
              "    <tr>\n",
              "      <th>95609</th>\n",
              "      <td>[[0, 0, 0, 0, 0, 1, 6, 12, 36, 87, 147, 206, 2...</td>\n",
              "    </tr>\n",
              "    <tr>\n",
              "      <th>62924</th>\n",
              "      <td>[[0, 150, 255, 251, 60, 0, 0, 0, 0, 0, 0, 0, 0...</td>\n",
              "    </tr>\n",
              "    <tr>\n",
              "      <th>96623</th>\n",
              "      <td>[[2, 2, 0, 0, 0, 0, 0, 0, 29, 86, 148, 207, 25...</td>\n",
              "    </tr>\n",
              "    <tr>\n",
              "      <th>34690</th>\n",
              "      <td>[[0, 0, 0, 0, 0, 0, 0, 0, 0, 0, 0, 40, 255, 40...</td>\n",
              "    </tr>\n",
              "  </tbody>\n",
              "</table>\n",
              "<p>20471 rows × 1 columns</p>\n",
              "</div>\n",
              "      <button class=\"colab-df-convert\" onclick=\"convertToInteractive('df-79125417-2617-4dd0-92c2-ce458b50a88f')\"\n",
              "              title=\"Convert this dataframe to an interactive table.\"\n",
              "              style=\"display:none;\">\n",
              "        \n",
              "  <svg xmlns=\"http://www.w3.org/2000/svg\" height=\"24px\"viewBox=\"0 0 24 24\"\n",
              "       width=\"24px\">\n",
              "    <path d=\"M0 0h24v24H0V0z\" fill=\"none\"/>\n",
              "    <path d=\"M18.56 5.44l.94 2.06.94-2.06 2.06-.94-2.06-.94-.94-2.06-.94 2.06-2.06.94zm-11 1L8.5 8.5l.94-2.06 2.06-.94-2.06-.94L8.5 2.5l-.94 2.06-2.06.94zm10 10l.94 2.06.94-2.06 2.06-.94-2.06-.94-.94-2.06-.94 2.06-2.06.94z\"/><path d=\"M17.41 7.96l-1.37-1.37c-.4-.4-.92-.59-1.43-.59-.52 0-1.04.2-1.43.59L10.3 9.45l-7.72 7.72c-.78.78-.78 2.05 0 2.83L4 21.41c.39.39.9.59 1.41.59.51 0 1.02-.2 1.41-.59l7.78-7.78 2.81-2.81c.8-.78.8-2.07 0-2.86zM5.41 20L4 18.59l7.72-7.72 1.47 1.35L5.41 20z\"/>\n",
              "  </svg>\n",
              "      </button>\n",
              "      \n",
              "  <style>\n",
              "    .colab-df-container {\n",
              "      display:flex;\n",
              "      flex-wrap:wrap;\n",
              "      gap: 12px;\n",
              "    }\n",
              "\n",
              "    .colab-df-convert {\n",
              "      background-color: #E8F0FE;\n",
              "      border: none;\n",
              "      border-radius: 50%;\n",
              "      cursor: pointer;\n",
              "      display: none;\n",
              "      fill: #1967D2;\n",
              "      height: 32px;\n",
              "      padding: 0 0 0 0;\n",
              "      width: 32px;\n",
              "    }\n",
              "\n",
              "    .colab-df-convert:hover {\n",
              "      background-color: #E2EBFA;\n",
              "      box-shadow: 0px 1px 2px rgba(60, 64, 67, 0.3), 0px 1px 3px 1px rgba(60, 64, 67, 0.15);\n",
              "      fill: #174EA6;\n",
              "    }\n",
              "\n",
              "    [theme=dark] .colab-df-convert {\n",
              "      background-color: #3B4455;\n",
              "      fill: #D2E3FC;\n",
              "    }\n",
              "\n",
              "    [theme=dark] .colab-df-convert:hover {\n",
              "      background-color: #434B5C;\n",
              "      box-shadow: 0px 1px 3px 1px rgba(0, 0, 0, 0.15);\n",
              "      filter: drop-shadow(0px 1px 2px rgba(0, 0, 0, 0.3));\n",
              "      fill: #FFFFFF;\n",
              "    }\n",
              "  </style>\n",
              "\n",
              "      <script>\n",
              "        const buttonEl =\n",
              "          document.querySelector('#df-79125417-2617-4dd0-92c2-ce458b50a88f button.colab-df-convert');\n",
              "        buttonEl.style.display =\n",
              "          google.colab.kernel.accessAllowed ? 'block' : 'none';\n",
              "\n",
              "        async function convertToInteractive(key) {\n",
              "          const element = document.querySelector('#df-79125417-2617-4dd0-92c2-ce458b50a88f');\n",
              "          const dataTable =\n",
              "            await google.colab.kernel.invokeFunction('convertToInteractive',\n",
              "                                                     [key], {});\n",
              "          if (!dataTable) return;\n",
              "\n",
              "          const docLinkHtml = 'Like what you see? Visit the ' +\n",
              "            '<a target=\"_blank\" href=https://colab.research.google.com/notebooks/data_table.ipynb>data table notebook</a>'\n",
              "            + ' to learn more about interactive tables.';\n",
              "          element.innerHTML = '';\n",
              "          dataTable['output_type'] = 'display_data';\n",
              "          await google.colab.output.renderOutput(dataTable, element);\n",
              "          const docLink = document.createElement('div');\n",
              "          docLink.innerHTML = docLinkHtml;\n",
              "          element.appendChild(docLink);\n",
              "        }\n",
              "      </script>\n",
              "    </div>\n",
              "  </div>\n",
              "  "
            ]
          },
          "metadata": {}
        },
        {
          "output_type": "display_data",
          "data": {
            "text/plain": [
              "90439    4\n",
              "55194    1\n",
              "49340    1\n",
              "76916    8\n",
              "1045     2\n",
              "        ..\n",
              "94512    4\n",
              "95609    1\n",
              "62924    1\n",
              "96623    1\n",
              "34690    3\n",
              "Name: label, Length: 20471, dtype: int64"
            ]
          },
          "metadata": {}
        }
      ],
      "source": [
        "import pandas as pd\n",
        "from sklearn.model_selection import train_test_split\n",
        "\n",
        "df = pd.DataFrame(columns = ['image', 'label'])\n",
        "\n",
        "df['image'] = resized_data\n",
        "df['label'] = labels\n",
        "\n",
        "display(df)\n",
        "\n",
        "x_train, x_test, yy_train, yy_test = train_test_split(df[['image']], df['label'], test_size=0.2, random_state=42)\n",
        "display(x_train)\n",
        "display(yy_train)\n",
        "display(x_test)\n",
        "display(yy_test)\n"
      ]
    },
    {
      "cell_type": "code",
      "source": [
        "from collections import Counter\n",
        "\n",
        "plt.bar(*zip(*Counter(yy_train).items()), label='Train')\n",
        "plt.bar(*zip(*Counter(yy_test).items()), label='Test')\n",
        "plt.legend()\n",
        "plt.show()"
      ],
      "metadata": {
        "colab": {
          "base_uri": "https://localhost:8080/",
          "height": 265
        },
        "id": "PvWuUqdNHri4",
        "outputId": "c5a2ac3e-d31d-4a36-8e0d-01b10825b922"
      },
      "id": "PvWuUqdNHri4",
      "execution_count": null,
      "outputs": [
        {
          "output_type": "display_data",
          "data": {
            "text/plain": [
              "<Figure size 432x288 with 1 Axes>"
            ],
            "image/png": "[encoded data removed]"
          },
          "metadata": {
            "needs_background": "light"
          }
        }
      ]
    },
    {
      "cell_type": "markdown",
      "id": "bbc7fd57",
      "metadata": {
        "id": "bbc7fd57"
      },
      "source": [
        "### Counts for train and test"
      ]
    },
    {
      "cell_type": "code",
      "execution_count": null,
      "id": "2f655583",
      "metadata": {
        "colab": {
          "base_uri": "https://localhost:8080/"
        },
        "id": "2f655583",
        "outputId": "978e98ee-1ad1-450f-e09d-d771d791b214"
      },
      "outputs": [
        {
          "output_type": "stream",
          "name": "stdout",
          "text": [
            "Counts for train: \n",
            "9    8307\n",
            "1    8298\n",
            "7    8274\n",
            "4    8266\n",
            "6    8252\n",
            "3    8191\n",
            "8    8175\n",
            "5    8097\n",
            "0    8082\n",
            "2    7939\n",
            "Name: label, dtype: int64\n",
            "\n",
            "Counts for test: \n",
            "3    2143\n",
            "8    2089\n",
            "7    2089\n",
            "4    2067\n",
            "9    2064\n",
            "1    2032\n",
            "5    2013\n",
            "6    2002\n",
            "0    1988\n",
            "2    1984\n",
            "Name: label, dtype: int64\n"
          ]
        }
      ],
      "source": [
        "import numpy as np\n",
        "\n",
        "print(\"Counts for train: \")\n",
        "print(yy_train.value_counts(sort = True))\n",
        "    \n",
        "print(\"\\nCounts for test: \")\n",
        "print(yy_test.value_counts(sort = True))"
      ]
    },
    {
      "cell_type": "code",
      "source": [
        "count_train = yy_train.value_counts(sort=True)\n",
        "count_train.plot.barh()\n",
        "plt.show()\n",
        "\n",
        "count_test = yy_test.value_counts(sort=True)\n",
        "count_test.plot.barh()\n",
        "plt.show()"
      ],
      "metadata": {
        "colab": {
          "base_uri": "https://localhost:8080/",
          "height": 513
        },
        "id": "RSGtVU3uInHJ",
        "outputId": "ee651eb0-3c7e-4165-8984-d1f9b6199be4"
      },
      "id": "RSGtVU3uInHJ",
      "execution_count": null,
      "outputs": [
        {
          "output_type": "display_data",
          "data": {
            "text/plain": [
              "<Figure size 432x288 with 1 Axes>"
            ],
            "image/png": "[encoded data removed]"
          },
          "metadata": {
            "needs_background": "light"
          }
        },
        {
          "output_type": "display_data",
          "data": {
            "text/plain": [
              "<Figure size 432x288 with 1 Axes>"
            ],
            "image/png": "[encoded data removed]"
          },
          "metadata": {
            "needs_background": "light"
          }
        }
      ]
    },
    {
      "cell_type": "markdown",
      "id": "1a69162b",
      "metadata": {
        "id": "1a69162b"
      },
      "source": [
        "### Normalization"
      ]
    },
    {
      "cell_type": "code",
      "execution_count": null,
      "id": "f419bbfb",
      "metadata": {
        "id": "f419bbfb"
      },
      "outputs": [],
      "source": [
        "flatten_train = []\n",
        "for img in x_train['image']:\n",
        "    flatten_train.append(img.flatten())\n",
        "    \n",
        "flatten_test = []\n",
        "for img in x_test['image']:\n",
        "    flatten_test.append(img.flatten())\n",
        "\n",
        "x_train = pd.DataFrame(data = np.divide(flatten_train, 255))\n",
        "x_test = pd.DataFrame(data = np.divide(flatten_test, 255))\n",
        "\n",
        "y_train = pd.DataFrame()\n",
        "y_test = pd.DataFrame()\n",
        "\n",
        "y_train['label'] = yy_train\n",
        "y_test['label'] = yy_test\n"
      ]
    },
    {
      "cell_type": "code",
      "execution_count": null,
      "id": "62791dfa",
      "metadata": {
        "colab": {
          "base_uri": "https://localhost:8080/",
          "height": 896
        },
        "id": "62791dfa",
        "outputId": "0fb4c02c-4b64-4b4b-ebe9-ca11e63a094d"
      },
      "outputs": [
        {
          "output_type": "display_data",
          "data": {
            "text/plain": [
              "   0    1    2         3         4         5         6    7         8    9    \\\n",
              "0  0.0  0.0  0.0  0.000000  0.000000  0.000000  0.000000  0.0  0.000000  0.0   \n",
              "1  0.0  0.0  0.0  0.031373  0.254902  0.576471  0.886275  1.0  1.000000  1.0   \n",
              "2  0.0  0.0  0.0  0.000000  0.000000  0.000000  0.000000  0.0  0.396078  1.0   \n",
              "3  1.0  1.0  1.0  0.972549  0.580392  0.164706  0.000000  0.0  0.000000  0.0   \n",
              "4  0.0  0.0  0.0  0.000000  0.000000  0.000000  0.000000  0.0  0.000000  0.0   \n",
              "\n",
              "   ...       615  616       617       618       619      620       621  \\\n",
              "0  ...  0.215686  0.0  0.000000  0.000000  0.000000  0.00000  0.000000   \n",
              "1  ...  1.000000  1.0  1.000000  0.886275  0.572549  0.25098  0.035294   \n",
              "2  ...  0.000000  0.0  0.000000  0.000000  0.000000  0.00000  0.000000   \n",
              "3  ...  0.000000  0.0  0.270588  0.698039  1.000000  1.00000  1.000000   \n",
              "4  ...  0.000000  0.0  0.000000  0.000000  0.000000  0.00000  0.000000   \n",
              "\n",
              "       622       623  624  \n",
              "0  0.00000  0.000000  0.0  \n",
              "1  0.00000  0.003922  0.0  \n",
              "2  0.00000  0.000000  0.0  \n",
              "3  0.65098  0.223529  0.0  \n",
              "4  0.00000  0.000000  0.0  \n",
              "\n",
              "[5 rows x 625 columns]"
            ],
            "text/html": [
              "\n",
              "  <div id=\"df-f63d7279-58b7-4419-9711-2a5ccba66f2f\">\n",
              "    <div class=\"colab-df-container\">\n",
              "      <div>\n",
              "<style scoped>\n",
              "    .dataframe tbody tr th:only-of-type {\n",
              "        vertical-align: middle;\n",
              "    }\n",
              "\n",
              "    .dataframe tbody tr th {\n",
              "        vertical-align: top;\n",
              "    }\n",
              "\n",
              "    .dataframe thead th {\n",
              "        text-align: right;\n",
              "    }\n",
              "</style>\n",
              "<table border=\"1\" class=\"dataframe\">\n",
              "  <thead>\n",
              "    <tr style=\"text-align: right;\">\n",
              "      <th></th>\n",
              "      <th>0</th>\n",
              "      <th>1</th>\n",
              "      <th>2</th>\n",
              "      <th>3</th>\n",
              "      <th>4</th>\n",
              "      <th>5</th>\n",
              "      <th>6</th>\n",
              "      <th>7</th>\n",
              "      <th>8</th>\n",
              "      <th>9</th>\n",
              "      <th>...</th>\n",
              "      <th>615</th>\n",
              "      <th>616</th>\n",
              "      <th>617</th>\n",
              "      <th>618</th>\n",
              "      <th>619</th>\n",
              "      <th>620</th>\n",
              "      <th>621</th>\n",
              "      <th>622</th>\n",
              "      <th>623</th>\n",
              "      <th>624</th>\n",
              "    </tr>\n",
              "  </thead>\n",
              "  <tbody>\n",
              "    <tr>\n",
              "      <th>0</th>\n",
              "      <td>0.0</td>\n",
              "      <td>0.0</td>\n",
              "      <td>0.0</td>\n",
              "      <td>0.000000</td>\n",
              "      <td>0.000000</td>\n",
              "      <td>0.000000</td>\n",
              "      <td>0.000000</td>\n",
              "      <td>0.0</td>\n",
              "      <td>0.000000</td>\n",
              "      <td>0.0</td>\n",
              "      <td>...</td>\n",
              "      <td>0.215686</td>\n",
              "      <td>0.0</td>\n",
              "      <td>0.000000</td>\n",
              "      <td>0.000000</td>\n",
              "      <td>0.000000</td>\n",
              "      <td>0.00000</td>\n",
              "      <td>0.000000</td>\n",
              "      <td>0.00000</td>\n",
              "      <td>0.000000</td>\n",
              "      <td>0.0</td>\n",
              "    </tr>\n",
              "    <tr>\n",
              "      <th>1</th>\n",
              "      <td>0.0</td>\n",
              "      <td>0.0</td>\n",
              "      <td>0.0</td>\n",
              "      <td>0.031373</td>\n",
              "      <td>0.254902</td>\n",
              "      <td>0.576471</td>\n",
              "      <td>0.886275</td>\n",
              "      <td>1.0</td>\n",
              "      <td>1.000000</td>\n",
              "      <td>1.0</td>\n",
              "      <td>...</td>\n",
              "      <td>1.000000</td>\n",
              "      <td>1.0</td>\n",
              "      <td>1.000000</td>\n",
              "      <td>0.886275</td>\n",
              "      <td>0.572549</td>\n",
              "      <td>0.25098</td>\n",
              "      <td>0.035294</td>\n",
              "      <td>0.00000</td>\n",
              "      <td>0.003922</td>\n",
              "      <td>0.0</td>\n",
              "    </tr>\n",
              "    <tr>\n",
              "      <th>2</th>\n",
              "      <td>0.0</td>\n",
              "      <td>0.0</td>\n",
              "      <td>0.0</td>\n",
              "      <td>0.000000</td>\n",
              "      <td>0.000000</td>\n",
              "      <td>0.000000</td>\n",
              "      <td>0.000000</td>\n",
              "      <td>0.0</td>\n",
              "      <td>0.396078</td>\n",
              "      <td>1.0</td>\n",
              "      <td>...</td>\n",
              "      <td>0.000000</td>\n",
              "      <td>0.0</td>\n",
              "      <td>0.000000</td>\n",
              "      <td>0.000000</td>\n",
              "      <td>0.000000</td>\n",
              "      <td>0.00000</td>\n",
              "      <td>0.000000</td>\n",
              "      <td>0.00000</td>\n",
              "      <td>0.000000</td>\n",
              "      <td>0.0</td>\n",
              "    </tr>\n",
              "    <tr>\n",
              "      <th>3</th>\n",
              "      <td>1.0</td>\n",
              "      <td>1.0</td>\n",
              "      <td>1.0</td>\n",
              "      <td>0.972549</td>\n",
              "      <td>0.580392</td>\n",
              "      <td>0.164706</td>\n",
              "      <td>0.000000</td>\n",
              "      <td>0.0</td>\n",
              "      <td>0.000000</td>\n",
              "      <td>0.0</td>\n",
              "      <td>...</td>\n",
              "      <td>0.000000</td>\n",
              "      <td>0.0</td>\n",
              "      <td>0.270588</td>\n",
              "      <td>0.698039</td>\n",
              "      <td>1.000000</td>\n",
              "      <td>1.00000</td>\n",
              "      <td>1.000000</td>\n",
              "      <td>0.65098</td>\n",
              "      <td>0.223529</td>\n",
              "      <td>0.0</td>\n",
              "    </tr>\n",
              "    <tr>\n",
              "      <th>4</th>\n",
              "      <td>0.0</td>\n",
              "      <td>0.0</td>\n",
              "      <td>0.0</td>\n",
              "      <td>0.000000</td>\n",
              "      <td>0.000000</td>\n",
              "      <td>0.000000</td>\n",
              "      <td>0.000000</td>\n",
              "      <td>0.0</td>\n",
              "      <td>0.000000</td>\n",
              "      <td>0.0</td>\n",
              "      <td>...</td>\n",
              "      <td>0.000000</td>\n",
              "      <td>0.0</td>\n",
              "      <td>0.000000</td>\n",
              "      <td>0.000000</td>\n",
              "      <td>0.000000</td>\n",
              "      <td>0.00000</td>\n",
              "      <td>0.000000</td>\n",
              "      <td>0.00000</td>\n",
              "      <td>0.000000</td>\n",
              "      <td>0.0</td>\n",
              "    </tr>\n",
              "  </tbody>\n",
              "</table>\n",
              "<p>5 rows × 625 columns</p>\n",
              "</div>\n",
              "      <button class=\"colab-df-convert\" onclick=\"convertToInteractive('df-f63d7279-58b7-4419-9711-2a5ccba66f2f')\"\n",
              "              title=\"Convert this dataframe to an interactive table.\"\n",
              "              style=\"display:none;\">\n",
              "        \n",
              "  <svg xmlns=\"http://www.w3.org/2000/svg\" height=\"24px\"viewBox=\"0 0 24 24\"\n",
              "       width=\"24px\">\n",
              "    <path d=\"M0 0h24v24H0V0z\" fill=\"none\"/>\n",
              "    <path d=\"M18.56 5.44l.94 2.06.94-2.06 2.06-.94-2.06-.94-.94-2.06-.94 2.06-2.06.94zm-11 1L8.5 8.5l.94-2.06 2.06-.94-2.06-.94L8.5 2.5l-.94 2.06-2.06.94zm10 10l.94 2.06.94-2.06 2.06-.94-2.06-.94-.94-2.06-.94 2.06-2.06.94z\"/><path d=\"M17.41 7.96l-1.37-1.37c-.4-.4-.92-.59-1.43-.59-.52 0-1.04.2-1.43.59L10.3 9.45l-7.72 7.72c-.78.78-.78 2.05 0 2.83L4 21.41c.39.39.9.59 1.41.59.51 0 1.02-.2 1.41-.59l7.78-7.78 2.81-2.81c.8-.78.8-2.07 0-2.86zM5.41 20L4 18.59l7.72-7.72 1.47 1.35L5.41 20z\"/>\n",
              "  </svg>\n",
              "      </button>\n",
              "      \n",
              "  <style>\n",
              "    .colab-df-container {\n",
              "      display:flex;\n",
              "      flex-wrap:wrap;\n",
              "      gap: 12px;\n",
              "    }\n",
              "\n",
              "    .colab-df-convert {\n",
              "      background-color: #E8F0FE;\n",
              "      border: none;\n",
              "      border-radius: 50%;\n",
              "      cursor: pointer;\n",
              "      display: none;\n",
              "      fill: #1967D2;\n",
              "      height: 32px;\n",
              "      padding: 0 0 0 0;\n",
              "      width: 32px;\n",
              "    }\n",
              "\n",
              "    .colab-df-convert:hover {\n",
              "      background-color: #E2EBFA;\n",
              "      box-shadow: 0px 1px 2px rgba(60, 64, 67, 0.3), 0px 1px 3px 1px rgba(60, 64, 67, 0.15);\n",
              "      fill: #174EA6;\n",
              "    }\n",
              "\n",
              "    [theme=dark] .colab-df-convert {\n",
              "      background-color: #3B4455;\n",
              "      fill: #D2E3FC;\n",
              "    }\n",
              "\n",
              "    [theme=dark] .colab-df-convert:hover {\n",
              "      background-color: #434B5C;\n",
              "      box-shadow: 0px 1px 3px 1px rgba(0, 0, 0, 0.15);\n",
              "      filter: drop-shadow(0px 1px 2px rgba(0, 0, 0, 0.3));\n",
              "      fill: #FFFFFF;\n",
              "    }\n",
              "  </style>\n",
              "\n",
              "      <script>\n",
              "        const buttonEl =\n",
              "          document.querySelector('#df-f63d7279-58b7-4419-9711-2a5ccba66f2f button.colab-df-convert');\n",
              "        buttonEl.style.display =\n",
              "          google.colab.kernel.accessAllowed ? 'block' : 'none';\n",
              "\n",
              "        async function convertToInteractive(key) {\n",
              "          const element = document.querySelector('#df-f63d7279-58b7-4419-9711-2a5ccba66f2f');\n",
              "          const dataTable =\n",
              "            await google.colab.kernel.invokeFunction('convertToInteractive',\n",
              "                                                     [key], {});\n",
              "          if (!dataTable) return;\n",
              "\n",
              "          const docLinkHtml = 'Like what you see? Visit the ' +\n",
              "            '<a target=\"_blank\" href=https://colab.research.google.com/notebooks/data_table.ipynb>data table notebook</a>'\n",
              "            + ' to learn more about interactive tables.';\n",
              "          element.innerHTML = '';\n",
              "          dataTable['output_type'] = 'display_data';\n",
              "          await google.colab.output.renderOutput(dataTable, element);\n",
              "          const docLink = document.createElement('div');\n",
              "          docLink.innerHTML = docLinkHtml;\n",
              "          element.appendChild(docLink);\n",
              "        }\n",
              "      </script>\n",
              "    </div>\n",
              "  </div>\n",
              "  "
            ]
          },
          "metadata": {}
        },
        {
          "output_type": "display_data",
          "data": {
            "text/plain": [
              "       label\n",
              "68352      4\n",
              "8790       1\n",
              "76265      8\n",
              "53786      1\n",
              "90256      7"
            ],
            "text/html": [
              "\n",
              "  <div id=\"df-9eeb0d19-8cc9-42c5-aa90-3455aafa924f\">\n",
              "    <div class=\"colab-df-container\">\n",
              "      <div>\n",
              "<style scoped>\n",
              "    .dataframe tbody tr th:only-of-type {\n",
              "        vertical-align: middle;\n",
              "    }\n",
              "\n",
              "    .dataframe tbody tr th {\n",
              "        vertical-align: top;\n",
              "    }\n",
              "\n",
              "    .dataframe thead th {\n",
              "        text-align: right;\n",
              "    }\n",
              "</style>\n",
              "<table border=\"1\" class=\"dataframe\">\n",
              "  <thead>\n",
              "    <tr style=\"text-align: right;\">\n",
              "      <th></th>\n",
              "      <th>label</th>\n",
              "    </tr>\n",
              "  </thead>\n",
              "  <tbody>\n",
              "    <tr>\n",
              "      <th>68352</th>\n",
              "      <td>4</td>\n",
              "    </tr>\n",
              "    <tr>\n",
              "      <th>8790</th>\n",
              "      <td>1</td>\n",
              "    </tr>\n",
              "    <tr>\n",
              "      <th>76265</th>\n",
              "      <td>8</td>\n",
              "    </tr>\n",
              "    <tr>\n",
              "      <th>53786</th>\n",
              "      <td>1</td>\n",
              "    </tr>\n",
              "    <tr>\n",
              "      <th>90256</th>\n",
              "      <td>7</td>\n",
              "    </tr>\n",
              "  </tbody>\n",
              "</table>\n",
              "</div>\n",
              "      <button class=\"colab-df-convert\" onclick=\"convertToInteractive('df-9eeb0d19-8cc9-42c5-aa90-3455aafa924f')\"\n",
              "              title=\"Convert this dataframe to an interactive table.\"\n",
              "              style=\"display:none;\">\n",
              "        \n",
              "  <svg xmlns=\"http://www.w3.org/2000/svg\" height=\"24px\"viewBox=\"0 0 24 24\"\n",
              "       width=\"24px\">\n",
              "    <path d=\"M0 0h24v24H0V0z\" fill=\"none\"/>\n",
              "    <path d=\"M18.56 5.44l.94 2.06.94-2.06 2.06-.94-2.06-.94-.94-2.06-.94 2.06-2.06.94zm-11 1L8.5 8.5l.94-2.06 2.06-.94-2.06-.94L8.5 2.5l-.94 2.06-2.06.94zm10 10l.94 2.06.94-2.06 2.06-.94-2.06-.94-.94-2.06-.94 2.06-2.06.94z\"/><path d=\"M17.41 7.96l-1.37-1.37c-.4-.4-.92-.59-1.43-.59-.52 0-1.04.2-1.43.59L10.3 9.45l-7.72 7.72c-.78.78-.78 2.05 0 2.83L4 21.41c.39.39.9.59 1.41.59.51 0 1.02-.2 1.41-.59l7.78-7.78 2.81-2.81c.8-.78.8-2.07 0-2.86zM5.41 20L4 18.59l7.72-7.72 1.47 1.35L5.41 20z\"/>\n",
              "  </svg>\n",
              "      </button>\n",
              "      \n",
              "  <style>\n",
              "    .colab-df-container {\n",
              "      display:flex;\n",
              "      flex-wrap:wrap;\n",
              "      gap: 12px;\n",
              "    }\n",
              "\n",
              "    .colab-df-convert {\n",
              "      background-color: #E8F0FE;\n",
              "      border: none;\n",
              "      border-radius: 50%;\n",
              "      cursor: pointer;\n",
              "      display: none;\n",
              "      fill: #1967D2;\n",
              "      height: 32px;\n",
              "      padding: 0 0 0 0;\n",
              "      width: 32px;\n",
              "    }\n",
              "\n",
              "    .colab-df-convert:hover {\n",
              "      background-color: #E2EBFA;\n",
              "      box-shadow: 0px 1px 2px rgba(60, 64, 67, 0.3), 0px 1px 3px 1px rgba(60, 64, 67, 0.15);\n",
              "      fill: #174EA6;\n",
              "    }\n",
              "\n",
              "    [theme=dark] .colab-df-convert {\n",
              "      background-color: #3B4455;\n",
              "      fill: #D2E3FC;\n",
              "    }\n",
              "\n",
              "    [theme=dark] .colab-df-convert:hover {\n",
              "      background-color: #434B5C;\n",
              "      box-shadow: 0px 1px 3px 1px rgba(0, 0, 0, 0.15);\n",
              "      filter: drop-shadow(0px 1px 2px rgba(0, 0, 0, 0.3));\n",
              "      fill: #FFFFFF;\n",
              "    }\n",
              "  </style>\n",
              "\n",
              "      <script>\n",
              "        const buttonEl =\n",
              "          document.querySelector('#df-9eeb0d19-8cc9-42c5-aa90-3455aafa924f button.colab-df-convert');\n",
              "        buttonEl.style.display =\n",
              "          google.colab.kernel.accessAllowed ? 'block' : 'none';\n",
              "\n",
              "        async function convertToInteractive(key) {\n",
              "          const element = document.querySelector('#df-9eeb0d19-8cc9-42c5-aa90-3455aafa924f');\n",
              "          const dataTable =\n",
              "            await google.colab.kernel.invokeFunction('convertToInteractive',\n",
              "                                                     [key], {});\n",
              "          if (!dataTable) return;\n",
              "\n",
              "          const docLinkHtml = 'Like what you see? Visit the ' +\n",
              "            '<a target=\"_blank\" href=https://colab.research.google.com/notebooks/data_table.ipynb>data table notebook</a>'\n",
              "            + ' to learn more about interactive tables.';\n",
              "          element.innerHTML = '';\n",
              "          dataTable['output_type'] = 'display_data';\n",
              "          await google.colab.output.renderOutput(dataTable, element);\n",
              "          const docLink = document.createElement('div');\n",
              "          docLink.innerHTML = docLinkHtml;\n",
              "          element.appendChild(docLink);\n",
              "        }\n",
              "      </script>\n",
              "    </div>\n",
              "  </div>\n",
              "  "
            ]
          },
          "metadata": {}
        },
        {
          "output_type": "display_data",
          "data": {
            "text/plain": [
              "   0         1         2         3         4         5         6         7    \\\n",
              "0  0.0  0.000000  0.000000  0.000000  0.000000  0.000000  0.000000  0.000000   \n",
              "1  0.0  0.000000  0.047059  0.270588  0.717647  1.000000  0.741176  0.196078   \n",
              "2  0.0  0.156863  0.541176  0.925490  1.000000  1.000000  0.925490  0.549020   \n",
              "3  0.0  0.000000  0.000000  0.000000  0.000000  0.000000  0.000000  0.000000   \n",
              "4  0.0  0.023529  0.062745  0.070588  0.062745  0.062745  0.070588  0.062745   \n",
              "\n",
              "        8    9    ...       615       616       617       618       619  620  \\\n",
              "0  0.000000  0.0  ...  0.000000  0.184314  0.862745  0.827451  0.152941  0.0   \n",
              "1  0.000000  0.0  ...  0.494118  0.843137  1.000000  1.000000  1.000000  1.0   \n",
              "2  0.160784  0.0  ...  1.000000  1.000000  1.000000  1.000000  1.000000  1.0   \n",
              "3  0.000000  0.0  ...  0.000000  0.000000  0.000000  0.000000  0.000000  0.0   \n",
              "4  0.023529  0.0  ...  0.176471  0.000000  0.000000  0.000000  0.000000  0.0   \n",
              "\n",
              "       621       622       623  624  \n",
              "0  0.00000  0.000000  0.000000  0.0  \n",
              "1  1.00000  1.000000  1.000000  1.0  \n",
              "2  0.92549  0.541176  0.156863  0.0  \n",
              "3  0.00000  0.000000  0.000000  0.0  \n",
              "4  0.00000  0.000000  0.000000  0.0  \n",
              "\n",
              "[5 rows x 625 columns]"
            ],
            "text/html": [
              "\n",
              "  <div id=\"df-4e3ea3cf-503d-44e5-a8a0-ef8b58daf986\">\n",
              "    <div class=\"colab-df-container\">\n",
              "      <div>\n",
              "<style scoped>\n",
              "    .dataframe tbody tr th:only-of-type {\n",
              "        vertical-align: middle;\n",
              "    }\n",
              "\n",
              "    .dataframe tbody tr th {\n",
              "        vertical-align: top;\n",
              "    }\n",
              "\n",
              "    .dataframe thead th {\n",
              "        text-align: right;\n",
              "    }\n",
              "</style>\n",
              "<table border=\"1\" class=\"dataframe\">\n",
              "  <thead>\n",
              "    <tr style=\"text-align: right;\">\n",
              "      <th></th>\n",
              "      <th>0</th>\n",
              "      <th>1</th>\n",
              "      <th>2</th>\n",
              "      <th>3</th>\n",
              "      <th>4</th>\n",
              "      <th>5</th>\n",
              "      <th>6</th>\n",
              "      <th>7</th>\n",
              "      <th>8</th>\n",
              "      <th>9</th>\n",
              "      <th>...</th>\n",
              "      <th>615</th>\n",
              "      <th>616</th>\n",
              "      <th>617</th>\n",
              "      <th>618</th>\n",
              "      <th>619</th>\n",
              "      <th>620</th>\n",
              "      <th>621</th>\n",
              "      <th>622</th>\n",
              "      <th>623</th>\n",
              "      <th>624</th>\n",
              "    </tr>\n",
              "  </thead>\n",
              "  <tbody>\n",
              "    <tr>\n",
              "      <th>0</th>\n",
              "      <td>0.0</td>\n",
              "      <td>0.000000</td>\n",
              "      <td>0.000000</td>\n",
              "      <td>0.000000</td>\n",
              "      <td>0.000000</td>\n",
              "      <td>0.000000</td>\n",
              "      <td>0.000000</td>\n",
              "      <td>0.000000</td>\n",
              "      <td>0.000000</td>\n",
              "      <td>0.0</td>\n",
              "      <td>...</td>\n",
              "      <td>0.000000</td>\n",
              "      <td>0.184314</td>\n",
              "      <td>0.862745</td>\n",
              "      <td>0.827451</td>\n",
              "      <td>0.152941</td>\n",
              "      <td>0.0</td>\n",
              "      <td>0.00000</td>\n",
              "      <td>0.000000</td>\n",
              "      <td>0.000000</td>\n",
              "      <td>0.0</td>\n",
              "    </tr>\n",
              "    <tr>\n",
              "      <th>1</th>\n",
              "      <td>0.0</td>\n",
              "      <td>0.000000</td>\n",
              "      <td>0.047059</td>\n",
              "      <td>0.270588</td>\n",
              "      <td>0.717647</td>\n",
              "      <td>1.000000</td>\n",
              "      <td>0.741176</td>\n",
              "      <td>0.196078</td>\n",
              "      <td>0.000000</td>\n",
              "      <td>0.0</td>\n",
              "      <td>...</td>\n",
              "      <td>0.494118</td>\n",
              "      <td>0.843137</td>\n",
              "      <td>1.000000</td>\n",
              "      <td>1.000000</td>\n",
              "      <td>1.000000</td>\n",
              "      <td>1.0</td>\n",
              "      <td>1.00000</td>\n",
              "      <td>1.000000</td>\n",
              "      <td>1.000000</td>\n",
              "      <td>1.0</td>\n",
              "    </tr>\n",
              "    <tr>\n",
              "      <th>2</th>\n",
              "      <td>0.0</td>\n",
              "      <td>0.156863</td>\n",
              "      <td>0.541176</td>\n",
              "      <td>0.925490</td>\n",
              "      <td>1.000000</td>\n",
              "      <td>1.000000</td>\n",
              "      <td>0.925490</td>\n",
              "      <td>0.549020</td>\n",
              "      <td>0.160784</td>\n",
              "      <td>0.0</td>\n",
              "      <td>...</td>\n",
              "      <td>1.000000</td>\n",
              "      <td>1.000000</td>\n",
              "      <td>1.000000</td>\n",
              "      <td>1.000000</td>\n",
              "      <td>1.000000</td>\n",
              "      <td>1.0</td>\n",
              "      <td>0.92549</td>\n",
              "      <td>0.541176</td>\n",
              "      <td>0.156863</td>\n",
              "      <td>0.0</td>\n",
              "    </tr>\n",
              "    <tr>\n",
              "      <th>3</th>\n",
              "      <td>0.0</td>\n",
              "      <td>0.000000</td>\n",
              "      <td>0.000000</td>\n",
              "      <td>0.000000</td>\n",
              "      <td>0.000000</td>\n",
              "      <td>0.000000</td>\n",
              "      <td>0.000000</td>\n",
              "      <td>0.000000</td>\n",
              "      <td>0.000000</td>\n",
              "      <td>0.0</td>\n",
              "      <td>...</td>\n",
              "      <td>0.000000</td>\n",
              "      <td>0.000000</td>\n",
              "      <td>0.000000</td>\n",
              "      <td>0.000000</td>\n",
              "      <td>0.000000</td>\n",
              "      <td>0.0</td>\n",
              "      <td>0.00000</td>\n",
              "      <td>0.000000</td>\n",
              "      <td>0.000000</td>\n",
              "      <td>0.0</td>\n",
              "    </tr>\n",
              "    <tr>\n",
              "      <th>4</th>\n",
              "      <td>0.0</td>\n",
              "      <td>0.023529</td>\n",
              "      <td>0.062745</td>\n",
              "      <td>0.070588</td>\n",
              "      <td>0.062745</td>\n",
              "      <td>0.062745</td>\n",
              "      <td>0.070588</td>\n",
              "      <td>0.062745</td>\n",
              "      <td>0.023529</td>\n",
              "      <td>0.0</td>\n",
              "      <td>...</td>\n",
              "      <td>0.176471</td>\n",
              "      <td>0.000000</td>\n",
              "      <td>0.000000</td>\n",
              "      <td>0.000000</td>\n",
              "      <td>0.000000</td>\n",
              "      <td>0.0</td>\n",
              "      <td>0.00000</td>\n",
              "      <td>0.000000</td>\n",
              "      <td>0.000000</td>\n",
              "      <td>0.0</td>\n",
              "    </tr>\n",
              "  </tbody>\n",
              "</table>\n",
              "<p>5 rows × 625 columns</p>\n",
              "</div>\n",
              "      <button class=\"colab-df-convert\" onclick=\"convertToInteractive('df-4e3ea3cf-503d-44e5-a8a0-ef8b58daf986')\"\n",
              "              title=\"Convert this dataframe to an interactive table.\"\n",
              "              style=\"display:none;\">\n",
              "        \n",
              "  <svg xmlns=\"http://www.w3.org/2000/svg\" height=\"24px\"viewBox=\"0 0 24 24\"\n",
              "       width=\"24px\">\n",
              "    <path d=\"M0 0h24v24H0V0z\" fill=\"none\"/>\n",
              "    <path d=\"M18.56 5.44l.94 2.06.94-2.06 2.06-.94-2.06-.94-.94-2.06-.94 2.06-2.06.94zm-11 1L8.5 8.5l.94-2.06 2.06-.94-2.06-.94L8.5 2.5l-.94 2.06-2.06.94zm10 10l.94 2.06.94-2.06 2.06-.94-2.06-.94-.94-2.06-.94 2.06-2.06.94z\"/><path d=\"M17.41 7.96l-1.37-1.37c-.4-.4-.92-.59-1.43-.59-.52 0-1.04.2-1.43.59L10.3 9.45l-7.72 7.72c-.78.78-.78 2.05 0 2.83L4 21.41c.39.39.9.59 1.41.59.51 0 1.02-.2 1.41-.59l7.78-7.78 2.81-2.81c.8-.78.8-2.07 0-2.86zM5.41 20L4 18.59l7.72-7.72 1.47 1.35L5.41 20z\"/>\n",
              "  </svg>\n",
              "      </button>\n",
              "      \n",
              "  <style>\n",
              "    .colab-df-container {\n",
              "      display:flex;\n",
              "      flex-wrap:wrap;\n",
              "      gap: 12px;\n",
              "    }\n",
              "\n",
              "    .colab-df-convert {\n",
              "      background-color: #E8F0FE;\n",
              "      border: none;\n",
              "      border-radius: 50%;\n",
              "      cursor: pointer;\n",
              "      display: none;\n",
              "      fill: #1967D2;\n",
              "      height: 32px;\n",
              "      padding: 0 0 0 0;\n",
              "      width: 32px;\n",
              "    }\n",
              "\n",
              "    .colab-df-convert:hover {\n",
              "      background-color: #E2EBFA;\n",
              "      box-shadow: 0px 1px 2px rgba(60, 64, 67, 0.3), 0px 1px 3px 1px rgba(60, 64, 67, 0.15);\n",
              "      fill: #174EA6;\n",
              "    }\n",
              "\n",
              "    [theme=dark] .colab-df-convert {\n",
              "      background-color: #3B4455;\n",
              "      fill: #D2E3FC;\n",
              "    }\n",
              "\n",
              "    [theme=dark] .colab-df-convert:hover {\n",
              "      background-color: #434B5C;\n",
              "      box-shadow: 0px 1px 3px 1px rgba(0, 0, 0, 0.15);\n",
              "      filter: drop-shadow(0px 1px 2px rgba(0, 0, 0, 0.3));\n",
              "      fill: #FFFFFF;\n",
              "    }\n",
              "  </style>\n",
              "\n",
              "      <script>\n",
              "        const buttonEl =\n",
              "          document.querySelector('#df-4e3ea3cf-503d-44e5-a8a0-ef8b58daf986 button.colab-df-convert');\n",
              "        buttonEl.style.display =\n",
              "          google.colab.kernel.accessAllowed ? 'block' : 'none';\n",
              "\n",
              "        async function convertToInteractive(key) {\n",
              "          const element = document.querySelector('#df-4e3ea3cf-503d-44e5-a8a0-ef8b58daf986');\n",
              "          const dataTable =\n",
              "            await google.colab.kernel.invokeFunction('convertToInteractive',\n",
              "                                                     [key], {});\n",
              "          if (!dataTable) return;\n",
              "\n",
              "          const docLinkHtml = 'Like what you see? Visit the ' +\n",
              "            '<a target=\"_blank\" href=https://colab.research.google.com/notebooks/data_table.ipynb>data table notebook</a>'\n",
              "            + ' to learn more about interactive tables.';\n",
              "          element.innerHTML = '';\n",
              "          dataTable['output_type'] = 'display_data';\n",
              "          await google.colab.output.renderOutput(dataTable, element);\n",
              "          const docLink = document.createElement('div');\n",
              "          docLink.innerHTML = docLinkHtml;\n",
              "          element.appendChild(docLink);\n",
              "        }\n",
              "      </script>\n",
              "    </div>\n",
              "  </div>\n",
              "  "
            ]
          },
          "metadata": {}
        },
        {
          "output_type": "display_data",
          "data": {
            "text/plain": [
              "       label\n",
              "90439      4\n",
              "55194      1\n",
              "49340      1\n",
              "76916      8\n",
              "1045       2"
            ],
            "text/html": [
              "\n",
              "  <div id=\"df-b1f41abf-2a72-4553-8afe-6cd4077bc492\">\n",
              "    <div class=\"colab-df-container\">\n",
              "      <div>\n",
              "<style scoped>\n",
              "    .dataframe tbody tr th:only-of-type {\n",
              "        vertical-align: middle;\n",
              "    }\n",
              "\n",
              "    .dataframe tbody tr th {\n",
              "        vertical-align: top;\n",
              "    }\n",
              "\n",
              "    .dataframe thead th {\n",
              "        text-align: right;\n",
              "    }\n",
              "</style>\n",
              "<table border=\"1\" class=\"dataframe\">\n",
              "  <thead>\n",
              "    <tr style=\"text-align: right;\">\n",
              "      <th></th>\n",
              "      <th>label</th>\n",
              "    </tr>\n",
              "  </thead>\n",
              "  <tbody>\n",
              "    <tr>\n",
              "      <th>90439</th>\n",
              "      <td>4</td>\n",
              "    </tr>\n",
              "    <tr>\n",
              "      <th>55194</th>\n",
              "      <td>1</td>\n",
              "    </tr>\n",
              "    <tr>\n",
              "      <th>49340</th>\n",
              "      <td>1</td>\n",
              "    </tr>\n",
              "    <tr>\n",
              "      <th>76916</th>\n",
              "      <td>8</td>\n",
              "    </tr>\n",
              "    <tr>\n",
              "      <th>1045</th>\n",
              "      <td>2</td>\n",
              "    </tr>\n",
              "  </tbody>\n",
              "</table>\n",
              "</div>\n",
              "      <button class=\"colab-df-convert\" onclick=\"convertToInteractive('df-b1f41abf-2a72-4553-8afe-6cd4077bc492')\"\n",
              "              title=\"Convert this dataframe to an interactive table.\"\n",
              "              style=\"display:none;\">\n",
              "        \n",
              "  <svg xmlns=\"http://www.w3.org/2000/svg\" height=\"24px\"viewBox=\"0 0 24 24\"\n",
              "       width=\"24px\">\n",
              "    <path d=\"M0 0h24v24H0V0z\" fill=\"none\"/>\n",
              "    <path d=\"M18.56 5.44l.94 2.06.94-2.06 2.06-.94-2.06-.94-.94-2.06-.94 2.06-2.06.94zm-11 1L8.5 8.5l.94-2.06 2.06-.94-2.06-.94L8.5 2.5l-.94 2.06-2.06.94zm10 10l.94 2.06.94-2.06 2.06-.94-2.06-.94-.94-2.06-.94 2.06-2.06.94z\"/><path d=\"M17.41 7.96l-1.37-1.37c-.4-.4-.92-.59-1.43-.59-.52 0-1.04.2-1.43.59L10.3 9.45l-7.72 7.72c-.78.78-.78 2.05 0 2.83L4 21.41c.39.39.9.59 1.41.59.51 0 1.02-.2 1.41-.59l7.78-7.78 2.81-2.81c.8-.78.8-2.07 0-2.86zM5.41 20L4 18.59l7.72-7.72 1.47 1.35L5.41 20z\"/>\n",
              "  </svg>\n",
              "      </button>\n",
              "      \n",
              "  <style>\n",
              "    .colab-df-container {\n",
              "      display:flex;\n",
              "      flex-wrap:wrap;\n",
              "      gap: 12px;\n",
              "    }\n",
              "\n",
              "    .colab-df-convert {\n",
              "      background-color: #E8F0FE;\n",
              "      border: none;\n",
              "      border-radius: 50%;\n",
              "      cursor: pointer;\n",
              "      display: none;\n",
              "      fill: #1967D2;\n",
              "      height: 32px;\n",
              "      padding: 0 0 0 0;\n",
              "      width: 32px;\n",
              "    }\n",
              "\n",
              "    .colab-df-convert:hover {\n",
              "      background-color: #E2EBFA;\n",
              "      box-shadow: 0px 1px 2px rgba(60, 64, 67, 0.3), 0px 1px 3px 1px rgba(60, 64, 67, 0.15);\n",
              "      fill: #174EA6;\n",
              "    }\n",
              "\n",
              "    [theme=dark] .colab-df-convert {\n",
              "      background-color: #3B4455;\n",
              "      fill: #D2E3FC;\n",
              "    }\n",
              "\n",
              "    [theme=dark] .colab-df-convert:hover {\n",
              "      background-color: #434B5C;\n",
              "      box-shadow: 0px 1px 3px 1px rgba(0, 0, 0, 0.15);\n",
              "      filter: drop-shadow(0px 1px 2px rgba(0, 0, 0, 0.3));\n",
              "      fill: #FFFFFF;\n",
              "    }\n",
              "  </style>\n",
              "\n",
              "      <script>\n",
              "        const buttonEl =\n",
              "          document.querySelector('#df-b1f41abf-2a72-4553-8afe-6cd4077bc492 button.colab-df-convert');\n",
              "        buttonEl.style.display =\n",
              "          google.colab.kernel.accessAllowed ? 'block' : 'none';\n",
              "\n",
              "        async function convertToInteractive(key) {\n",
              "          const element = document.querySelector('#df-b1f41abf-2a72-4553-8afe-6cd4077bc492');\n",
              "          const dataTable =\n",
              "            await google.colab.kernel.invokeFunction('convertToInteractive',\n",
              "                                                     [key], {});\n",
              "          if (!dataTable) return;\n",
              "\n",
              "          const docLinkHtml = 'Like what you see? Visit the ' +\n",
              "            '<a target=\"_blank\" href=https://colab.research.google.com/notebooks/data_table.ipynb>data table notebook</a>'\n",
              "            + ' to learn more about interactive tables.';\n",
              "          element.innerHTML = '';\n",
              "          dataTable['output_type'] = 'display_data';\n",
              "          await google.colab.output.renderOutput(dataTable, element);\n",
              "          const docLink = document.createElement('div');\n",
              "          docLink.innerHTML = docLinkHtml;\n",
              "          element.appendChild(docLink);\n",
              "        }\n",
              "      </script>\n",
              "    </div>\n",
              "  </div>\n",
              "  "
            ]
          },
          "metadata": {}
        }
      ],
      "source": [
        "display(x_train.head())\n",
        "display(y_train.head())\n",
        "\n",
        "display(x_test.head())\n",
        "display(y_test.head())"
      ]
    },
    {
      "cell_type": "markdown",
      "id": "6c0a32a9",
      "metadata": {
        "id": "6c0a32a9"
      },
      "source": [
        "# Dataloader\n",
        "This class prepares the dataset for the neural network.\n"
      ]
    },
    {
      "cell_type": "code",
      "execution_count": null,
      "id": "fd726293",
      "metadata": {
        "id": "fd726293"
      },
      "outputs": [],
      "source": [
        "class Dataloader:\n",
        "    '''\n",
        "    This class prepares the dataset for the neural network.\n",
        "    '''\n",
        "    \n",
        "    def __init__(self, data, labels, n_classes, batch_size=None, shuffle=False):\n",
        "        '''\n",
        "        This is the constructor. It gets dataset information and initializes the \n",
        "        Dataloader class fields.\n",
        "            Parameters:\n",
        "                data: features your dataset in pandas.Dataframe format.\n",
        "                labels: labels of your dataset in pandas.Dataframe format.\n",
        "                n_classes: number of classes you have in your dataset.\n",
        "                batch_size: the number of samples that will be propagated through the network.\n",
        "                shuffle: boolean value indicating whether or not the dataset should be shuffled\n",
        "        '''\n",
        "\n",
        "        assert len(data)==len(labels)\n",
        "\n",
        "        self.__n_classes = n_classes\n",
        "        self.__batch_size = batch_size\n",
        "        self.__shuffle = shuffle\n",
        "        self.__data = data\n",
        "        self.__onehot_labels = self.__onehot(labels, self.__n_classes)\n",
        "    \n",
        "    def __onehot(self, labels, n_classes):\n",
        "        '''\n",
        "        This private method gets labels and provides one_hot vectors of labels.\n",
        "        For categorical variables where no such ordinal relationship exists,\n",
        "        the integer encoding is not enough.\n",
        "        In this case, a one-hot encoding can be applied to the integer representation.\n",
        "        This is where the integer encoded variable is removed, and a new binary variable is\n",
        "        added for each unique integer value.\n",
        "        example:\n",
        "            red,    green,    blue\n",
        "            1,      0,        0\n",
        "            0,      1,        0\n",
        "            0,      0,        1\n",
        "                Parameters:\n",
        "                        label: lables of your dataset in pandas.Dataframe format.\n",
        "                        n_classes: number of classes you have in your dataset.\n",
        "                \n",
        "                Returns:\n",
        "                    onehot_vectors: onehot vectors of the labels\n",
        "        '''\n",
        "        onehot_vectors = pd.DataFrame(OneHotEncoder().fit_transform(labels).toarray())\n",
        "        return onehot_vectors\n",
        "    \n",
        "    def __shuffle_dataset(self):\n",
        "        '''\n",
        "        This private method shuffles your dataset.\n",
        "        It uses data and onehot_labels to shuffle them\n",
        "        symmetrical.\n",
        "        '''\n",
        "        perm = np.random.permutation((self.__data.shape[0]))\n",
        "        self.__data = self.__data[perm]\n",
        "        self.__onehot_labels = self.__onehot_labels[perm]\n",
        "\n",
        "    def __iter__(self):\n",
        "        '''\n",
        "        The __iter__() function returns an iterator for the\n",
        "        given object (array, set, tuple, etc., or custom objects).\n",
        "        This will return your dataset in the batch_size given. This should\n",
        "        be used to provide data for the neural network.\n",
        "        '''\n",
        "        \n",
        "        if self.__shuffle:\n",
        "            self.__shuffle_dataset()\n",
        "            \n",
        "        if self.__batch_size==None:\n",
        "            yield (np.matrix(self.__data), np.matrix(self.__onehot_labels))\n",
        "            return\n",
        "\n",
        "        for idx in range(0, len(self.__data), self.__batch_size):\n",
        "            yield (np.matrix(self.__data[idx:idx+self.__batch_size]), \n",
        "                   np.matrix(self.__onehot_labels[idx:idx+self.__batch_size]))"
      ]
    },
    {
      "cell_type": "markdown",
      "id": "f54473cc",
      "metadata": {
        "id": "f54473cc"
      },
      "source": [
        "# Activation Functions"
      ]
    },
    {
      "cell_type": "code",
      "execution_count": null,
      "id": "32d79653",
      "metadata": {
        "id": "32d79653"
      },
      "outputs": [],
      "source": [
        "class Identical:\n",
        "    '''\n",
        "    This is the Identical activation function. This activation function just\n",
        "    return the value it gets.\n",
        "    '''\n",
        "    \n",
        "    def __init__(self):\n",
        "        '''\n",
        "        This is the constructor. It does not have any fields\n",
        "        as a result, there is no need to do anything in the constructor.\n",
        "        '''\n",
        "        pass\n",
        "\n",
        "    \n",
        "    def __val(self, matrix):\n",
        "        '''\n",
        "        This private method gets a matrix and uses the activity function on that.\n",
        "        As this is an identical activity function, it just \n",
        "        returns np.matrix of the input.\n",
        "        \n",
        "            Parameters:\n",
        "                matrix: np.matrix of values\n",
        "            Returns:\n",
        "                identical_value: np.matrix of input with float datatypes\n",
        "        '''\n",
        "        identical_value = np.matrix(matrix, dtype=float)\n",
        "        return identical_value\n",
        "\n",
        "    def derivative(self, matrix):\n",
        "        '''\n",
        "        This method returns the derivation of the input.\n",
        "        As the derivation of x is one, this method returns\n",
        "        a matrix of one with the shape of the input matrix.\n",
        "        \n",
        "            Parameters:\n",
        "                matrix: np.matrix of values\n",
        "            Returns:\n",
        "                identical_derivative: np.matrix of ones with matrix shape\n",
        "        '''\n",
        "        temp = np.matrix(matrix, dtype=float)\n",
        "        identical_derivative = np.matrix(np.full(np.shape(temp), 1.))\n",
        "        return identical_derivative\n",
        "    \n",
        "    def __call__(self, matrix):\n",
        "        '''\n",
        "        __call__ is a special function in Python that, when implemented inside a class,\n",
        "        gives its instances (objects) the ability to behave like a function.\n",
        "        Here we return the _value method output.\n",
        "            \n",
        "            Parameters:\n",
        "                matrix: np.matrix of values\n",
        "            Returns:\n",
        "                __val(matrix): __val return value for the input matrix\n",
        "        '''\n",
        "        return self.__val(matrix)\n",
        "    \n",
        "\n",
        "class Relu:\n",
        "    '''\n",
        "    This is the Relu activation function. \n",
        "    The rectified linear activation function or ReLU for short\n",
        "    is a piecewise linear function that will output the input directly\n",
        "    if it is positive, otherwise, it will output zero.\n",
        "    '''\n",
        "    \n",
        "    def __init__(self): \n",
        "        '''\n",
        "        This is the constructor. It does not have any fields\n",
        "        as a result, there is no need to do anything in the constructor.\n",
        "        '''\n",
        "        pass\n",
        "        \n",
        "    def __val(self, matrix):\n",
        "        '''\n",
        "        This private method gets a matrix and uses the activity function on that.\n",
        "        It will set 0 in the matrix if the value is less than 0 else, it returns the value itself.\n",
        "        \n",
        "            Parameters:\n",
        "                matrix: np.matrix of values\n",
        "            Returns:\n",
        "                relu_value: np.matrix of relu activation function result\n",
        "        '''\n",
        "        temp = np.matrix(matrix, dtype=float)\n",
        "        relu_value = np.maximum(0, temp)\n",
        "        return relu_value\n",
        "\n",
        "    def derivative(self, matrix):\n",
        "        '''\n",
        "        Returns the derivation value of relu function on input matrix.\n",
        "        \n",
        "            Parameters:\n",
        "                matrix: np.matrix of values\n",
        "            Returns:\n",
        "                relu_derivative: np.matrix of relu activation function derivation result\n",
        "        '''\n",
        "        temp = np.matrix(matrix, dtype=float)\n",
        "        relu_derivative = np.matrix(np.full(np.shape(temp), np.where(temp >= 0, 1, 0)))\n",
        "        return relu_derivative\n",
        "    \n",
        "    def __call__(self, matrix):\n",
        "        '''\n",
        "        __call__ is a special function in Python that, when implemented inside a class,\n",
        "        gives its instances (objects) the ability to behave like a function.\n",
        "        Here we return the _relu method output.\n",
        "            \n",
        "            Parameters:\n",
        "                matrix: np.matrix of values\n",
        "            Returns:\n",
        "                __relu(matrix): __relu return value for the input matrix\n",
        "        '''\n",
        "        return self.__val(matrix)\n",
        "\n",
        "    \n",
        "class LeakyRelu:\n",
        "    '''\n",
        "    This is the Leaky Relu activation function. \n",
        "    Leaky Rectified Linear Unit, or Leaky ReLU,\n",
        "    is a type of activation function based on a ReLU,\n",
        "    but it has a small slope for negative values instead\n",
        "    of a flat slope.\n",
        "    '''\n",
        "    \n",
        "    def __init__(self, negative_slope=0.01):\n",
        "        '''\n",
        "        This is the constructor.\n",
        "        It sets negative_slope field.\n",
        "            Parameters:\n",
        "                negative_slope: slope for negative input values\n",
        "        '''\n",
        "        self.negative_slope = negative_slope\n",
        "    \n",
        "    def __val(self, matrix):\n",
        "        '''\n",
        "        This private method gets a matrix and uses the activity function on that.\n",
        "        It will set negative_slope*value in the matrix if the value is less than 0, else it\n",
        "        returns the value itself.\n",
        "        \n",
        "            Parameters:\n",
        "                matrix: np.matrix of values\n",
        "            Returns:\n",
        "                relu_value: np.matrix of relu activation function result\n",
        "        '''\n",
        "        temp = np.matrix(matrix, dtype=float)\n",
        "        leaky_relu_value = np.where(temp < 0, temp * self.negative_slope, temp)\n",
        "        return leaky_relu_value\n",
        "\n",
        "    def derivative(self, matrix):\n",
        "        '''\n",
        "        Returns the derivation value of leaky relu function on input matrix.\n",
        "        \n",
        "            Parameters:\n",
        "                matrix: np.matrix of values\n",
        "            Returns:\n",
        "                leacky_relu_derivative: np.matrix of leaky relu activation function derivation result\n",
        "        '''\n",
        "        temp = np.matrix(matrix, dtype=float)\n",
        "        leaky_relu_derivative = np.matrix(np.full(np.shape(temp), np.where(temp >= 0, 1, self.negative_slope)))\n",
        "        return leaky_relu_derivative\n",
        "    \n",
        "    def __call__(self, matrix):\n",
        "        '''\n",
        "        __call__ is a special function in Python that, when implemented inside a class,\n",
        "        gives its instances (objects) the ability to behave like a function.\n",
        "        Here we return the _val method output.\n",
        "            \n",
        "            Parameters:\n",
        "                matrix: np.matrix of values\n",
        "            Returns:\n",
        "                __val(matrix): __val return value for the input matrix\n",
        "        '''\n",
        "        return self.__val(matrix)\n",
        "\n",
        "    \n",
        "class Sigmoid:\n",
        "    '''\n",
        "    A sigmoid function is a mathematical function having a\n",
        "    characteristic \"S\"-shaped curve or sigmoid curve.\n",
        "    It return S(x)=1/(1+e^-x)\n",
        "    '''\n",
        "    \n",
        "    def __init__(self): \n",
        "        '''\n",
        "        This is the constructor. It does not have any fields\n",
        "        as a result, there is no need to do anything in the constructor.\n",
        "        '''\n",
        "        pass\n",
        "\n",
        "    def __val(self, matrix):\n",
        "        '''\n",
        "        Returns 1/(1+e^-x) of values\n",
        "        \n",
        "            Parameters:\n",
        "                matrix: np.matrix of values\n",
        "            Returns:\n",
        "                sigmoid_value: np.matrix of sigmoid activation function result\n",
        "        '''\n",
        "        temp = np.matrix(matrix, dtype=float)\n",
        "        sigmoid_value = 1/(1 + np.exp(-temp))\n",
        "        return sigmoid_value\n",
        "\n",
        "    def derivative(self, matrix):\n",
        "        '''\n",
        "        Returns the derivation value of sigmoid function on input matrix.\n",
        "        \n",
        "            Parameters:\n",
        "                matrix: np.matrix of values\n",
        "            Returns:\n",
        "                sigmoid_derivative: np.matrix of sigmoid activation function derivation result\n",
        "        '''\n",
        "        temp = np.matrix(matrix, dtype=float)\n",
        "        temp = self.__val(temp)\n",
        "        sigmoid_derivative = np.multiply(temp, (1 - temp))\n",
        "        return sigmoid_derivative\n",
        "    \n",
        "    def __call__(self, matrix):\n",
        "        '''\n",
        "        __call__ is a special function in Python that, when implemented inside a class,\n",
        "        gives its instances (objects) the ability to behave like a function.\n",
        "        Here we return the _val method output.\n",
        "            \n",
        "            Parameters:\n",
        "                matrix: np.matrix of values\n",
        "            Returns:\n",
        "                __val(matrix): __val return value for the input matrix\n",
        "        '''\n",
        "        return self.__val(matrix)\n",
        "\n",
        "\n",
        "class Softmax:\n",
        "    '''\n",
        "    The softmax function, also known as softargmax  or normalized\n",
        "    exponential function is a generalization of the logistic\n",
        "    function to multiple dimensions. It is used in multinomial logistic\n",
        "    regression and is often used as the last activation function of a neural\n",
        "    network to normalize the output of a network to a probability distribution\n",
        "    over predicted output classes, based on Luce's choice axiom.\n",
        "    Softmax return (e^x_i / (Σe^x_j for j = 1, ..., J))\n",
        "    '''\n",
        "        \n",
        "    def __init__(self): \n",
        "        '''\n",
        "        This is the constructor. It does not have any fields\n",
        "        as a result, there is no need to do anything in the constructor.\n",
        "        '''\n",
        "        pass\n",
        "        \n",
        "\n",
        "    def __val(self, matrix):\n",
        "        '''\n",
        "        This private method gets a matrix and uses the softmax on that.\n",
        "        Softmax return (e^x_i / (Σe^x_j for j = 1, ..., J))\n",
        "        \n",
        "            Parameters:\n",
        "                matrix: np.matrix of values\n",
        "            Returns:\n",
        "                softmax_value: np.matrix of softmax activation function result\n",
        "        '''\n",
        "        temp = np.matrix(matrix, dtype=float)    \n",
        "        softmax_value = np.apply_along_axis(lambda row: np.exp(row - np.max(row))/np.sum(np.exp(row - np.max(row))), 1, temp)\n",
        "        return softmax_value\n",
        "    \n",
        "    def __call__(self, matrix):\n",
        "        '''\n",
        "        __call__ is a special function in Python that, when implemented inside a class,\n",
        "        gives its instances (objects) the ability to behave like a function.\n",
        "        Here we return the _val method output.\n",
        "            \n",
        "            Parameters:\n",
        "                matrix: np.matrix of values\n",
        "            Returns:\n",
        "                __val(matrix): __val return value for the input matrix\n",
        "        '''\n",
        "        return self.__val(matrix)\n",
        "    \n",
        "class Tanh:\n",
        "    '''\n",
        "    tanh is also like logistic sigmoid but better. \n",
        "    The range of the tanh function is from (-1 to 1).\n",
        "    tanh is also sigmoidal (s - shaped).\n",
        "    '''\n",
        "    \n",
        "    def __init__(self): \n",
        "        '''\n",
        "        This is the constructor. It does not have any fields\n",
        "        as a result, there is no need to do anything in the constructor.\n",
        "        '''\n",
        "        pass\n",
        "\n",
        "    def __val(self, matrix): # check\n",
        "        '''\n",
        "        This private method gets a matrix and uses the activity function on that.\n",
        "        It performs Tanh on the values.\n",
        "        \n",
        "            Parameters:\n",
        "                matrix: np.matrix of values\n",
        "            Returns:\n",
        "                tanh_value: np.matrix of Tanh activation function result\n",
        "        '''\n",
        "        temp = np.matrix(matrix, dtype=float)\n",
        "        tanh_value = np.tanh(temp)\n",
        "        tanh_value = np.matrix(tanh_value)\n",
        "        return tanh_value\n",
        "\n",
        "    def derivative(self, matrix):\n",
        "        '''\n",
        "        Returns the derivation value of Tanh function on input matrix.\n",
        "        \n",
        "            Parameters:\n",
        "                matrix: np.matrix of values\n",
        "            Returns:\n",
        "                sigmoid_derivative: np.matrix of Tanh activation function derivation result\n",
        "        '''\n",
        "        temp = np.matrix(matrix, dtype=float)\n",
        "        tanh_derivative = 1 - np.power(self.__val(temp), 2)\n",
        "        return tanh_derivative\n",
        "    \n",
        "    def __call__(self, matrix):\n",
        "        '''\n",
        "        __call__ is a special function in Python that, when implemented inside a class,\n",
        "        gives its instances (objects) the ability to behave like a function.\n",
        "        Here we return the _val method output.\n",
        "            \n",
        "            Parameters:\n",
        "                matrix: np.matrix of values\n",
        "            Returns:\n",
        "                __val(matrix): __val return value for the input matrix\n",
        "        '''\n",
        "        return self.__val(matrix)"
      ]
    },
    {
      "cell_type": "markdown",
      "id": "91d3701a",
      "metadata": {
        "id": "91d3701a"
      },
      "source": [
        "![image.png](attachment:image.png)"
      ]
    },
    {
      "cell_type": "markdown",
      "id": "443305b8",
      "metadata": {
        "id": "443305b8"
      },
      "source": [
        "\n",
        "# Loss Function"
      ]
    },
    {
      "cell_type": "code",
      "execution_count": null,
      "id": "b4696697",
      "metadata": {
        "id": "b4696697"
      },
      "outputs": [],
      "source": [
        "class CrossEntropy: #(with softmax)\n",
        "    '''\n",
        "    Cross-entropy is a measure of the difference between two probability\n",
        "    distributions for a given random variable or set of events. You might\n",
        "    recall that information quantifies the number of bits required to encode\n",
        "    and transmit an event.\n",
        "    The above image can help you.\n",
        "    '''\n",
        "    \n",
        "    def __init__(self): \n",
        "        '''\n",
        "        This is the constructor. It does not have any fields\n",
        "        as a result, there is no need to do anything in the constructor.\n",
        "        '''\n",
        "        pass\n",
        "\n",
        "    def __val(self, true_val, expected_val):\n",
        "        '''\n",
        "        L(y^, y) = - Σ (y^(k)log (y^)^(k)) for k in K\n",
        "        Parameters:\n",
        "            true_val: calculated values (generated by neural network)\n",
        "            expected_val: real values in dataset\n",
        "        Returns:\n",
        "            cross_entropy_value: cross entropy of inputs\n",
        "        '''\n",
        "        assert np.shape(true_val)==np.shape(expected_val)\n",
        "        \n",
        "        temp = np.matrix(true_val, dtype=float)\n",
        "        output = np.log(Softmax()(temp))\n",
        "        expected = np.matrix(expected_val, dtype=float)\n",
        "        \n",
        "        cross_entropy_value =  -1 * np.sum(np.multiply(expected, output), axis=1)\n",
        "        \n",
        "        return cross_entropy_value\n",
        "    \n",
        "        \n",
        "    def derivative(self, true_val, expected_val):\n",
        "        '''\n",
        "        Returns derivation of cross entropy.\n",
        "            Parameters:\n",
        "                true_val: calculated values (generated by neural network)\n",
        "                expected_val: real values in dataset\n",
        "            Returns:\n",
        "                cross_entropy_derivative: cross entropy derivation of inputs\n",
        "        '''\n",
        "        assert np.shape(true_val)==np.shape(expected_val)\n",
        "                                           \n",
        "        temp = np.matrix(true_val, dtype=float)\n",
        "        output = Softmax()(temp)\n",
        "        expected = np.matrix(expected_val, dtype=float)\n",
        "                                           \n",
        "        cross_entropy_derivative = output - expected\n",
        "                                           \n",
        "        return cross_entropy_derivative\n",
        "    \n",
        "    def __call__(self, true_val, expected_val):\n",
        "        '''\n",
        "        __call__ is a special function in Python that, when implemented inside a class,\n",
        "        gives its instances (objects) the ability to behave like a function.\n",
        "        Here we return the _val method output.\n",
        "            \n",
        "            Parameters:\n",
        "                true_val: calculated values (generated by neural network)\n",
        "                expected_val: real values in dataset\n",
        "            Returns:\n",
        "                __val(matrix): __val return value for the input matrix\n",
        "        '''\n",
        "        return self.__val(true_val, expected_val)"
      ]
    },
    {
      "cell_type": "markdown",
      "id": "a9bf4608",
      "metadata": {
        "id": "a9bf4608"
      },
      "source": [
        "# Layer"
      ]
    },
    {
      "cell_type": "code",
      "execution_count": null,
      "id": "c4bd0d91",
      "metadata": {
        "id": "c4bd0d91"
      },
      "outputs": [],
      "source": [
        "class Layer:\n",
        "    '''\n",
        "    The layer class is used to define neural network layers.\n",
        "    It stores all needed information for each layer, such as neurons count,\n",
        "    weight matrix, bias, the output after applying the activation function, etc.\n",
        "    '''\n",
        "\n",
        "    DEFAULT_LOW, DEFAULT_HIGH, DEFAULT_MEAN, DEFAULT_VAR = 0, 0.05, 0., 1.\n",
        "  \n",
        "    def __init__(self, input_size, output_size, activation=Identical(), initial_weight='uniform', \n",
        "                 **initializing_parameters):\n",
        "        '''\n",
        "        Parameters:\n",
        "            input_size: the size of the input of this layer.\n",
        "            output_size: the size of the output after this layer.\n",
        "            activation: the activation function. It can be initialized to either of the previously defined activation classes.\n",
        "                               default is an Identical activation function.\n",
        "            initial_weight: either normal or uniform. It defines the method for weight initialization.\n",
        "        '''\n",
        "        \n",
        "        assert type(initial_weight)==str, 'Undefined activation function!'\n",
        "        \n",
        "        self.__weight_initializer_dict = {'uniform':self.__uniform_weight, \n",
        "                                          'normal':self.__normal_weight, \n",
        "                                          'zero':self.__zero_weight}\n",
        "        \n",
        "        assert initial_weight in self.__weight_initializer_dict, 'Undefined weight initialization function!'\n",
        "\n",
        "\n",
        "        self.__n_neurons = output_size\n",
        "        weight_initializer = self.__weight_initializer_dict[initial_weight]\n",
        "        self.__weight = weight_initializer(input_size, self.__n_neurons, **initializing_parameters)\n",
        "        self.__bias = weight_initializer(1, self.__n_neurons, **initializing_parameters)\n",
        "        self.__activation = activation\n",
        "        \n",
        "        self.__last_input = None\n",
        "        self.__last_activation_input = None\n",
        "        self.__last_activation_output = None\n",
        "        self.__last_activation_derivative = None\n",
        "        \n",
        "    def forward(self, layer_input):\n",
        "        '''\n",
        "        It calculates the output of this layer for the layer_input argument.\n",
        "        This method also stores __last_input, __last_activation_input, and __last_activation_derivative\n",
        "        for future use in backpropagation.\n",
        "        Parameters:\n",
        "            layer_input: 2d np.matrix representing the input matrix of this layer.\n",
        "        Returns:\n",
        "            Final output of this layer after applying the activation function.\n",
        "        '''\n",
        "        assert np.ndim(layer_input)==2\n",
        "        assert np.size(self.__weight,0) == np.size(layer_input,1)\n",
        "        \n",
        "        self.__last_input = np.matrix(layer_input, dtype=float)\n",
        "        self.__last_activation_input = np.add(np.dot(self.__last_input, self.__weight), self.__bias)\n",
        "\n",
        "        self.__last_activation_output = self.__activation(self.__last_activation_input)\n",
        "\n",
        "        self.__last_activation_derivative = self.__activation.derivative(self.__last_activation_input)        \n",
        "        return self.__last_activation_output\n",
        "    \n",
        "    def update_weights(self, backprop_tensor, lr):\n",
        "        '''\n",
        "        It updates Layer weights according to the backpropagation matrix and learning rate.\n",
        "        This method updates bias values as well.\n",
        "        Parameters:\n",
        "            backprop_tensor: 2d np.matrix passed from the next layer containing gradient values.\n",
        "            lr: learning rate\n",
        "        Returns:\n",
        "            backprop_tensor to be used by the previous layer.\n",
        "        '''\n",
        "        assert np.ndim(backprop_tensor)==2\n",
        "        assert np.size(backprop_tensor,0) == np.size(self.__last_activation_derivative,0)\n",
        "        assert np.size(backprop_tensor,1) == self.__n_neurons\n",
        "        \n",
        "        ones = np.matrix(np.ones((np.size(backprop_tensor,axis=0), 1)))\n",
        "\n",
        "        dy = np.multiply(backprop_tensor, self.__last_activation_derivative)\n",
        "        db = np.matmul(ones.T, dy)\n",
        "        dw = np.matmul(self.__last_input.T, dy)\n",
        "        \n",
        "        backprop_tensor = np.matmul(dy, np.transpose(self.__weight))\n",
        "\n",
        "        self.__weight -= lr * dw\n",
        "        self.__bias -= lr * db\n",
        "        \n",
        "        return backprop_tensor\n",
        "\n",
        "    def __uniform_weight(self, dim1, dim2, **initializing_parameters):\n",
        "        '''\n",
        "        Initializes weights as a uniform distribution between low and high values.\n",
        "        It uses default low and high values unless low or high are passed in initializing_parameters.\n",
        "        Parameters:\n",
        "            dim1: the size of the first dimension of weights.\n",
        "            dim2: the size of the second dimension of weights.\n",
        "            initializing_parameters: other initializing parameters; it can include custom low or high values.\n",
        "        Returns:\n",
        "            np.matrix with size (dim1, dim2) initialized using uniformly distributed values.\n",
        "        '''\n",
        "        low, high = self.DEFAULT_LOW, self.DEFAULT_HIGH\n",
        "        if 'low' in initializing_parameters.keys(): low = initializing_parameters['low']\n",
        "        if 'high' in initializing_parameters.keys(): high = initializing_parameters['high']\n",
        "        \n",
        "        weights = np.matrix(np.random.uniform(low, high, size=(dim1, dim2)))\n",
        "        return weights\n",
        "\n",
        "    def __normal_weight(self, dim1, dim2, **initializing_parameters):\n",
        "        '''\n",
        "        Initializes weights as a normal distribution with mean and var values.\n",
        "        It uses default mean and variance values unless mean or var are passed in initializing_parameters.\n",
        "        Parameters:\n",
        "            dim1: the size of the first dimension of weights.\n",
        "            dim2: the size of the second dimension of weights.\n",
        "            initializing_parameters: other initializing parameters; it can include custom mean or var values.\n",
        "        Returns:\n",
        "            np.matrix with size (dim1, dim2) initialized using normaly distributed values.\n",
        "        ''' \n",
        "        mean, var = self.DEFAULT_MEAN, self.DEFAULT_VAR\n",
        "        if 'mean' in initializing_parameters.keys(): mean = initializing_parameters['mean']\n",
        "        if 'var' in initializing_parameters.keys(): var = initializing_parameters['var']\n",
        "        weights = np.matrix(np.random.normal(mean, np.sqrt(var), size=(dim1, dim2)))\n",
        "        return weights\n",
        "    \n",
        "    # Not necessary\n",
        "    def __zero_weight(self, dim1, dim2, **initializing_parameters):\n",
        "        '''\n",
        "        Initializes weights as 0.\n",
        "        Parameters:\n",
        "            dim1: the size of the first dimension of weights.\n",
        "            dim2: the size of the second dimension of weights.\n",
        "        Returns:\n",
        "            np.matrix with size (dim1, dim2) initialized using 0 values.\n",
        "        ''' \n",
        "        weights = np.matrix(np.zeros(shape=(dim1,dim2)))\n",
        "        return weights\n",
        "    \n",
        "    @property\n",
        "    def n_neurons(self): return self.__n_neurons\n",
        "    \n",
        "    @property\n",
        "    def weight(self): return self.__weight\n",
        "    \n",
        "    @property\n",
        "    def bias(self): return self.__bias\n",
        "    \n",
        "    @property\n",
        "    def activation(self): return self.__activation"
      ]
    },
    {
      "cell_type": "markdown",
      "id": "6c402aaa",
      "metadata": {
        "id": "6c402aaa"
      },
      "source": [
        "# Feed Forward Neural Network"
      ]
    },
    {
      "cell_type": "code",
      "execution_count": null,
      "id": "5d95c9df",
      "metadata": {
        "id": "5d95c9df"
      },
      "outputs": [],
      "source": [
        "class FeedForwardNN:\n",
        "    '''\n",
        "    This class is used in order to implement custom feed-forward neural networks.\n",
        "    The FeedForwardNN class stores a list of layers that determines all network layers.\n",
        "    It also consists of the learning rate and loss function.\n",
        "    '''\n",
        "    def __init__(self, input_shape):\n",
        "        '''\n",
        "        Parameters:\n",
        "            input_shape: the size of the first input to our neural network.\n",
        "        '''\n",
        "        \n",
        "        self.__input_shape = input_shape\n",
        "        self.__output_shape = None\n",
        "        \n",
        "        self.__layers_list = []\n",
        "        \n",
        "        self.__lr = None\n",
        "        self.__loss = None\n",
        "\n",
        "        \n",
        "    def add_layer(self, n_neurons, activation=Relu(), initial_weight='uniform', **initializing_parameters):\n",
        "        '''\n",
        "         This method adds a new custom layer to the layers_list.\n",
        "         Parameters:\n",
        "             n_neurons: number of neurons in this layer\n",
        "             activation: the activation function of this layer, default is Relu\n",
        "             initial_weight: either a uniform or normal, default is uniform\n",
        "             initializing_parameters: other initializing parameters such as low, high, mean, var, etc\n",
        "        '''\n",
        "         \n",
        "        assert type(n_neurons)==int, \"Invalid number of neurons for the layer!\"\n",
        "        assert n_neurons>0, \"Invalid number of neurons for the layer!\"\n",
        "        \n",
        "        n_prev_neurons = self.__input_shape if len(self.__layers_list)==0 else self.__layers_list[-1].n_neurons\n",
        "        new_layer = Layer(n_prev_neurons, n_neurons, activation, initial_weight, **initializing_parameters)\n",
        "        self.__layers_list.append(new_layer)\n",
        "        self.__output_shape = self.__layers_list[-1].n_neurons \n",
        "      \n",
        "    \n",
        "    def set_training_param(self, loss=CrossEntropy(), lr=1e-3):\n",
        "        '''\n",
        "        This method is used to set training parameters.\n",
        "        Parameters:\n",
        "            loss: loss function, default is CrossEntropy\n",
        "            lr: learning rate, default is 1e-3\n",
        "        '''\n",
        "        assert self.__layers_list, \"Uncomplete model!\"\n",
        "        self.__loss = loss\n",
        "        self.__lr = lr\n",
        "    \n",
        "    \n",
        "    def forward(self, network_input):\n",
        "        '''\n",
        "        This method calculates the output of the complete neural network for a passed input.\n",
        "        Parameters:\n",
        "            network_input: input of the neural network\n",
        "        Returns:\n",
        "            network_output: output of the neural network after forwarding the network_input\n",
        "        '''\n",
        "        assert type(self.__output_shape) != None, \"Model is not compiled!\"\n",
        "\n",
        "        network_output = network_input\n",
        "        for layer in self.__layers_list:\n",
        "            network_output = layer.forward(network_output)\n",
        "        \n",
        "        return network_output\n",
        "    \n",
        "    \n",
        "    def fit(self, epochs, trainloader, testloader=None, print_results=True):\n",
        "        '''\n",
        "        This method trains the neural network using specified parameters.\n",
        "        It runs the __train private method epoch times and fills the log dictionary.\n",
        "        Parameters:\n",
        "            epochs: number of epochs to run\n",
        "            trainloader: DataLoader for train data\n",
        "            testloader: DataLoader for test data\n",
        "            print_results: whether or not to print the results\n",
        "        Returns:\n",
        "            log: complete log of the training process as a dictionary consisting of\n",
        "            train_accuracy, train_loss, test_accuracy, test_loss\n",
        "        '''\n",
        "        \n",
        "        assert type(self.__output_shape) != None, \"Model is not compiled!\"\n",
        "        assert type(self.__lr) != None and type(self.__loss) != None, \"Training paramenters are not set!\"\n",
        "\n",
        "        log = {\"train_accuracy\":[], \"train_loss\":[], \"test_accuracy\":[], \"test_loss\":[]}\n",
        "        \n",
        "        for epoch in range(1, epochs+1):\n",
        "            \n",
        "            if print_results: \n",
        "                print('Epoch {}:'.format(epoch)) \n",
        "                \n",
        "            average_accuracy, average_loss = self.__train(trainloader)\n",
        "            log['train_accuracy'].append(average_accuracy)\n",
        "            log['train_loss'].append(average_loss)\n",
        "            if print_results:\n",
        "                print('\\tTrain: Average Accuracy: {}\\tAverage Loss: {}'.format(average_accuracy, average_loss))\n",
        "            \n",
        "            if type(testloader) != type(None):\n",
        "                average_accuracy, average_loss = self.__test(testloader)\n",
        "                log['test_accuracy'].append(average_accuracy)\n",
        "                log['test_loss'].append(average_loss)\n",
        "                if print_results:\n",
        "                    print('\\tTest: Average Accuracy: {}\\tAverage Loss: {}'.format(average_accuracy, average_loss))\n",
        "                    \n",
        "        return log\n",
        "    \n",
        "    \n",
        "    def __train(self, trainloader):\n",
        "        '''\n",
        "        Trains the neural network for one epoch.\n",
        "        Parameters:\n",
        "            trainloader: A DataLoader consisting of train data\n",
        "        Returns:\n",
        "            batch_accuracy, batch_loss: mean of all batch_accuracies, batch_losses\n",
        "        '''\n",
        "        batch_accuracies, batch_losses = [], []\n",
        "        for x_train, y_train in trainloader:\n",
        "            batch_accuracy, batch_loss = self.__train_on_batch(x_train, y_train)\n",
        "            batch_accuracies.append(batch_accuracy)\n",
        "            batch_losses.append(batch_loss)\n",
        "        return np.mean(batch_accuracies), np.mean(batch_losses)\n",
        "    \n",
        "    \n",
        "    def __test(self, testloader):\n",
        "        '''\n",
        "        Test the neural network using a testloader.\n",
        "        Parameters:\n",
        "            testloader: A DataLoader of test data\n",
        "        Returns:\n",
        "            batch_accuracy, batch_loss: mean of all batch_accuracies, batch_losses\n",
        "        '''\n",
        "        batch_accuracies, batch_losses = [], []\n",
        "        for x_test, y_test in testloader:\n",
        "            batch_accuracy, batch_loss = self.__test_on_batch(x_test, y_test)\n",
        "            batch_accuracies.append(batch_accuracy)\n",
        "            batch_losses.append(batch_loss)\n",
        "\n",
        "        return np.mean(batch_accuracies), np.mean(batch_losses)\n",
        "\n",
        "    \n",
        "    def __train_on_batch(self, x_batch, y_batch):\n",
        "        '''\n",
        "        Trains the neural network for one batch of train data.\n",
        "        Parameters:\n",
        "            x_batch: one batch data\n",
        "            y_batch: labels for one batch\n",
        "        Returns:\n",
        "            (batch_accuracy, batch_average_loss)\n",
        "        '''\n",
        "        network_output = self.forward(x_batch)\n",
        "        batch_accuracy = self.__compute_accuracy(network_output, y_batch)\n",
        "        batch_average_loss = np.mean(self.__loss(network_output, y_batch))\n",
        "\n",
        "        self.__update_weights(network_output, y_batch)\n",
        "\n",
        "        return (batch_accuracy, batch_average_loss)\n",
        "        \n",
        "        \n",
        "    def __test_on_batch(self, x_batch, y_batch):\n",
        "        '''\n",
        "        Tests the neural network for one batch of test data.\n",
        "        Parameters:\n",
        "            x_batch: one batch data\n",
        "            y_batch: labels for one batch\n",
        "        Returns:\n",
        "            (batch_accuracy, batch_average_loss)\n",
        "        '''  \n",
        "        network_output = self.forward(x_batch)\n",
        "\n",
        "        batch_accuracy = self.__compute_accuracy(network_output, y_batch)\n",
        "        batch_average_loss = np.mean(self.__loss(network_output, y_batch))\n",
        "        \n",
        "        return (batch_accuracy, batch_average_loss)\n",
        "            \n",
        "        \n",
        "    def __get_labels(self, outputs):\n",
        "        '''\n",
        "        Parameters:\n",
        "            outputs: output of the neural network\n",
        "        Returns:\n",
        "            labels: labels generated from the outputs of the neural network\n",
        "        '''\n",
        "        labels = outputs.argmax(1)\n",
        "        return labels\n",
        "    \n",
        "    \n",
        "    def __compute_accuracy(self, output, expected_output):\n",
        "        '''\n",
        "        Computes accuracy by comparing output and expected_output.\n",
        "        Parameters:\n",
        "            output: actual output of the neural network\n",
        "            expected_output: expected output\n",
        "        Returns:\n",
        "            accuracy\n",
        "        '''\n",
        "        labels = self.__get_labels(output)\n",
        "        expected_labels = self.__get_labels(expected_output)\n",
        "        accuracy = np.count_nonzero(labels == expected_labels) / np.size(output, axis=0) * 100\n",
        "        return accuracy\n",
        "    \n",
        "    \n",
        "    def __update_weights(self, output, y_train):\n",
        "        '''\n",
        "        Updates weights of all layers according to neural network output and labels.\n",
        "        Parameters:\n",
        "            output: output of the neural network\n",
        "            y_train: y labels for one batch of train data\n",
        "        Returns:\n",
        "            None\n",
        "        '''\n",
        "        backpropagation_tensor = self.__loss.derivative(output, y_train)\n",
        "        for layer in reversed(self.__layers_list):\n",
        "            backpropagation_tensor = layer.update_weights(backpropagation_tensor, self.__lr)\n",
        "        return"
      ]
    },
    {
      "cell_type": "markdown",
      "id": "715217c8",
      "metadata": {
        "id": "715217c8"
      },
      "source": [
        "## Section 3: Data classification\n",
        "\n",
        "### Training Network"
      ]
    },
    {
      "cell_type": "code",
      "source": [
        "INPUT_SHAPE = 25*25\n",
        "LEARNING_RATE = 0.001\n",
        "EPOCHS = 15\n",
        "BATCH_SIZE = 32"
      ],
      "metadata": {
        "id": "HFK9MVSKartl"
      },
      "id": "HFK9MVSKartl",
      "execution_count": null,
      "outputs": []
    },
    {
      "cell_type": "code",
      "source": [
        "TRAINLOADER = [batch for batch in Dataloader(x_train, y_train, n_classes=10, batch_size=BATCH_SIZE, shuffle=False)]\n",
        "TESTLOADER = [batch for batch in Dataloader(x_test, y_test, n_classes=10, batch_size=BATCH_SIZE, shuffle=False)]\n",
        "\n",
        "network = FeedForwardNN(INPUT_SHAPE)\n",
        "network.add_layer(50, activation=Relu(), initial_weight='uniform')\n",
        "network.add_layer(10, activation=Identical(), initial_weight='uniform')\n",
        "network.set_training_param(loss=CrossEntropy(), lr=LEARNING_RATE)\n",
        "\n",
        "log = network.fit(EPOCHS, TRAINLOADER, TESTLOADER, print_results=True)"
      ],
      "metadata": {
        "colab": {
          "base_uri": "https://localhost:8080/"
        },
        "id": "eRDNjBiCayR7",
        "outputId": "72b9c265-ef0f-4ebf-ef7d-3d5dca6f3b34"
      },
      "id": "eRDNjBiCayR7",
      "execution_count": null,
      "outputs": [
        {
          "output_type": "stream",
          "name": "stdout",
          "text": [
            "Epoch 1:\n",
            "\tTrain: Average Accuracy: 90.42106291520125\tAverage Loss: 0.38544905171842586\n",
            "\tTest: Average Accuracy: 95.56449558423913\tAverage Loss: 0.1587077819408679\n",
            "Epoch 2:\n",
            "\tTrain: Average Accuracy: 96.24242868307932\tAverage Loss: 0.1363473863440764\n",
            "\tTest: Average Accuracy: 96.53617527173913\tAverage Loss: 0.12617858288913544\n",
            "Epoch 3:\n",
            "\tTrain: Average Accuracy: 97.11190894880812\tAverage Loss: 0.10706149170144062\n",
            "\tTest: Average Accuracy: 97.10746433423913\tAverage Loss: 0.10350292274388359\n",
            "Epoch 4:\n",
            "\tTrain: Average Accuracy: 97.60648690894881\tAverage Loss: 0.08726448315953986\n",
            "\tTest: Average Accuracy: 97.51762058423913\tAverage Loss: 0.08886592457283862\n",
            "Epoch 5:\n",
            "\tTrain: Average Accuracy: 97.95940797186401\tAverage Loss: 0.07385514841829192\n",
            "\tTest: Average Accuracy: 97.75199558423913\tAverage Loss: 0.07956214585175883\n",
            "Epoch 6:\n",
            "\tTrain: Average Accuracy: 98.21951934349356\tAverage Loss: 0.06425634485515382\n",
            "\tTest: Average Accuracy: 97.88383152173913\tAverage Loss: 0.07298698502545697\n",
            "Epoch 7:\n",
            "\tTrain: Average Accuracy: 98.4234564282923\tAverage Loss: 0.05715230188242845\n",
            "\tTest: Average Accuracy: 97.97172214673913\tAverage Loss: 0.06793802112869485\n",
            "Epoch 8:\n",
            "\tTrain: Average Accuracy: 98.57854630715123\tAverage Loss: 0.05160127426176211\n",
            "\tTest: Average Accuracy: 98.05961277173913\tAverage Loss: 0.06413516281278303\n",
            "Epoch 9:\n",
            "\tTrain: Average Accuracy: 98.70432786244626\tAverage Loss: 0.04705209388142485\n",
            "\tTest: Average Accuracy: 98.08890964673913\tAverage Loss: 0.06108064949634717\n",
            "Epoch 10:\n",
            "\tTrain: Average Accuracy: 98.8032434544744\tAverage Loss: 0.04321580052210371\n",
            "\tTest: Average Accuracy: 98.18168308423913\tAverage Loss: 0.058848240140309385\n",
            "Epoch 11:\n",
            "\tTrain: Average Accuracy: 98.89727432590855\tAverage Loss: 0.039923827707215274\n",
            "\tTest: Average Accuracy: 98.25004245923913\tAverage Loss: 0.05675289310666596\n",
            "Epoch 12:\n",
            "\tTrain: Average Accuracy: 98.98275693630325\tAverage Loss: 0.03701545291050098\n",
            "\tTest: Average Accuracy: 98.31840183423913\tAverage Loss: 0.05500977605040874\n",
            "Epoch 13:\n",
            "\tTrain: Average Accuracy: 99.04015240328253\tAverage Loss: 0.03449265287592768\n",
            "\tTest: Average Accuracy: 98.35746433423913\tAverage Loss: 0.05361947779553004\n",
            "Epoch 14:\n",
            "\tTrain: Average Accuracy: 99.11098085189528\tAverage Loss: 0.03218091134258925\n",
            "\tTest: Average Accuracy: 98.39652683423913\tAverage Loss: 0.05247571366911109\n",
            "Epoch 15:\n",
            "\tTrain: Average Accuracy: 99.16959749902306\tAverage Loss: 0.030107261793341885\n",
            "\tTest: Average Accuracy: 98.44047214673913\tAverage Loss: 0.05133966021109464\n"
          ]
        }
      ]
    },
    {
      "cell_type": "code",
      "execution_count": null,
      "id": "6dbee057",
      "metadata": {
        "colab": {
          "base_uri": "https://localhost:8080/",
          "height": 656
        },
        "id": "6dbee057",
        "outputId": "03410190-8889-4718-cad4-76b38b28058f"
      },
      "outputs": [
        {
          "output_type": "execute_result",
          "data": {
            "text/plain": [
              "[Text(0.5, 0, 'epochs')]"
            ]
          },
          "metadata": {},
          "execution_count": 79
        },
        {
          "output_type": "display_data",
          "data": {
            "text/plain": [
              "<Figure size 432x288 with 0 Axes>"
            ]
          },
          "metadata": {}
        },
        {
          "output_type": "display_data",
          "data": {
            "text/plain": [
              "<Figure size 1080x720 with 2 Axes>"
            ],
            "image/png": "[encoded data removed]"
          },
          "metadata": {
            "needs_background": "light"
          }
        }
      ],
      "source": [
        "f = plt.figure()    \n",
        "f, axes = plt.subplots(nrows = 1, ncols = 2,figsize=(15,10))\n",
        "axes[0].plot(log['train_accuracy'])\n",
        "axes[0].plot(log['test_accuracy'])\n",
        "axes[0].legend(['train', 'test'])\n",
        "axes[0].set_title(\"accuracy\")\n",
        "axes[0].set(xlabel='epochs')\n",
        "\n",
        "axes[1].plot(log['train_loss'])\n",
        "axes[1].plot(log['test_loss'])\n",
        "axes[1].legend(['train', 'test'])\n",
        "axes[1].set_title(\"loss\")\n",
        "axes[1].set(xlabel='epochs')\n"
      ]
    },
    {
      "cell_type": "markdown",
      "id": "b47cd8fb",
      "metadata": {
        "id": "b47cd8fb"
      },
      "source": [
        "### Zero Weighting"
      ]
    },
    {
      "cell_type": "code",
      "source": [
        "TRAINLOADER = [batch for batch in Dataloader(x_train, y_train, n_classes=10, batch_size=BATCH_SIZE, shuffle=False)]\n",
        "TESTLOADER = [batch for batch in Dataloader(x_test, y_test, n_classes=10, batch_size=BATCH_SIZE, shuffle=False)]\n",
        "\n",
        "network = FeedForwardNN(INPUT_SHAPE)\n",
        "network.add_layer(50, activation=Relu(), initial_weight='zero')\n",
        "network.add_layer(10, activation=Identical(), initial_weight='zero')\n",
        "network.set_training_param(loss=CrossEntropy(), lr=LEARNING_RATE)\n",
        "\n",
        "log = network.fit(EPOCHS, TRAINLOADER, TESTLOADER, print_results=True)"
      ],
      "metadata": {
        "colab": {
          "base_uri": "https://localhost:8080/"
        },
        "id": "Jcf0nBx3YJZf",
        "outputId": "2663ada1-4c87-4f07-aa17-3be086e43f16"
      },
      "id": "Jcf0nBx3YJZf",
      "execution_count": null,
      "outputs": [
        {
          "output_type": "stream",
          "name": "stdout",
          "text": [
            "Epoch 1:\n",
            "\tTrain: Average Accuracy: 10.082747166862056\tAverage Loss: 2.3027821567506788\n",
            "\tTest: Average Accuracy: 10.20210597826087\tAverage Loss: 2.302601387404046\n",
            "Epoch 2:\n",
            "\tTrain: Average Accuracy: 10.08152598671356\tAverage Loss: 2.302778478897865\n",
            "\tTest: Average Accuracy: 10.20210597826087\tAverage Loss: 2.3026014440218434\n",
            "Epoch 3:\n",
            "\tTrain: Average Accuracy: 10.08152598671356\tAverage Loss: 2.30277848153859\n",
            "\tTest: Average Accuracy: 10.20210597826087\tAverage Loss: 2.302601444037573\n",
            "Epoch 4:\n",
            "\tTrain: Average Accuracy: 10.08152598671356\tAverage Loss: 2.3027784815394607\n",
            "\tTest: Average Accuracy: 10.20210597826087\tAverage Loss: 2.3026014440375775\n",
            "Epoch 5:\n",
            "\tTrain: Average Accuracy: 10.08152598671356\tAverage Loss: 2.302778481539461\n",
            "\tTest: Average Accuracy: 10.20210597826087\tAverage Loss: 2.3026014440375775\n",
            "Epoch 6:\n",
            "\tTrain: Average Accuracy: 10.08152598671356\tAverage Loss: 2.302778481539461\n",
            "\tTest: Average Accuracy: 10.20210597826087\tAverage Loss: 2.3026014440375775\n",
            "Epoch 7:\n",
            "\tTrain: Average Accuracy: 10.08152598671356\tAverage Loss: 2.302778481539461\n",
            "\tTest: Average Accuracy: 10.20210597826087\tAverage Loss: 2.3026014440375775\n",
            "Epoch 8:\n",
            "\tTrain: Average Accuracy: 10.08152598671356\tAverage Loss: 2.302778481539461\n",
            "\tTest: Average Accuracy: 10.20210597826087\tAverage Loss: 2.3026014440375775\n",
            "Epoch 9:\n",
            "\tTrain: Average Accuracy: 10.08152598671356\tAverage Loss: 2.302778481539461\n",
            "\tTest: Average Accuracy: 10.20210597826087\tAverage Loss: 2.3026014440375775\n",
            "Epoch 10:\n",
            "\tTrain: Average Accuracy: 10.08152598671356\tAverage Loss: 2.302778481539461\n",
            "\tTest: Average Accuracy: 10.20210597826087\tAverage Loss: 2.3026014440375775\n",
            "Epoch 11:\n",
            "\tTrain: Average Accuracy: 10.08152598671356\tAverage Loss: 2.302778481539461\n",
            "\tTest: Average Accuracy: 10.20210597826087\tAverage Loss: 2.3026014440375775\n",
            "Epoch 12:\n",
            "\tTrain: Average Accuracy: 10.08152598671356\tAverage Loss: 2.302778481539461\n",
            "\tTest: Average Accuracy: 10.20210597826087\tAverage Loss: 2.3026014440375775\n",
            "Epoch 13:\n",
            "\tTrain: Average Accuracy: 10.08152598671356\tAverage Loss: 2.302778481539461\n",
            "\tTest: Average Accuracy: 10.20210597826087\tAverage Loss: 2.3026014440375775\n",
            "Epoch 14:\n",
            "\tTrain: Average Accuracy: 10.08152598671356\tAverage Loss: 2.302778481539461\n",
            "\tTest: Average Accuracy: 10.20210597826087\tAverage Loss: 2.3026014440375775\n",
            "Epoch 15:\n",
            "\tTrain: Average Accuracy: 10.08152598671356\tAverage Loss: 2.302778481539461\n",
            "\tTest: Average Accuracy: 10.20210597826087\tAverage Loss: 2.3026014440375775\n"
          ]
        }
      ]
    },
    {
      "cell_type": "markdown",
      "id": "fd5e867d",
      "metadata": {
        "id": "fd5e867d"
      },
      "source": [
        "### C) Affection of Learning Rate"
      ]
    },
    {
      "cell_type": "code",
      "execution_count": null,
      "id": "42c2cc89",
      "metadata": {
        "colab": {
          "base_uri": "https://localhost:8080/"
        },
        "id": "42c2cc89",
        "outputId": "62ab6507-0e29-4bb4-af03-80f3eded0a29"
      },
      "outputs": [
        {
          "output_type": "stream",
          "name": "stdout",
          "text": [
            "For learning rate = 0.0007\n",
            "\tTrain Accuracy : 98.65425947635795\n",
            "\tTest Accuracy : 98.14262058423913\n",
            "\tTrain Loss : 0.048855875566112886\n",
            "\tTest Loss : 0.06389017075799187\n",
            "For learning rate = 0.00085\n",
            "\tTrain Accuracy : 98.8056858147714\n",
            "\tTest Accuracy : 98.1494140625\n",
            "\tTrain Loss : 0.04324558431326242\n",
            "\tTest Loss : 0.06359727391018047\n",
            "For learning rate = 0.001\n",
            "\tTrain Accuracy : 98.86308128175068\n",
            "\tTest Accuracy : 98.19144870923913\n",
            "\tTrain Loss : 0.03982164080292862\n",
            "\tTest Loss : 0.05839321462407421\n",
            "For learning rate = 0.00115\n",
            "\tTrain Accuracy : 98.98642047674873\n",
            "\tTest Accuracy : 98.30863620923913\n",
            "\tTrain Loss : 0.03516750161974167\n",
            "\tTest Loss : 0.05619363577150467\n",
            "For learning rate = 0.0013\n",
            "\tTrain Accuracy : 99.05358538491598\n",
            "\tTest Accuracy : 98.32137398097827\n",
            "\tTrain Loss : 0.03337125020886498\n",
            "\tTest Loss : 0.058220037876564455\n"
          ]
        }
      ],
      "source": [
        "INPUT_SHAPE = 25*25\n",
        "LEARNING_RATE = [0.00070, 0.00085, 0.0010, 0.00115, 0.00130]\n",
        "EPOCHS = 15\n",
        "\n",
        "results = []\n",
        "for lr in LEARNING_RATE:\n",
        "    TRAINLOADER = [batch for batch in Dataloader(x_train, y_train, n_classes=10, batch_size=BATCH_SIZE, shuffle=False)]\n",
        "    TESTLOADER = [batch for batch in Dataloader(x_test, y_test, n_classes=10, batch_size=BATCH_SIZE, shuffle=False)]\n",
        "\n",
        "    network = FeedForwardNN(INPUT_SHAPE)\n",
        "    network.add_layer(n_neurons=30, activation=Relu(), initial_weight='uniform')\n",
        "    network.add_layer(n_neurons=10, activation=Identical(), initial_weight='uniform')\n",
        "    network.set_training_param(loss=CrossEntropy(), lr=lr)\n",
        "\n",
        "    log = network.fit(EPOCHS, TRAINLOADER, TESTLOADER, print_results=False)\n",
        "    print(\"For learning rate =\", lr)\n",
        "    print(\"\\tTrain Accuracy :\", log['train_accuracy'][-1])\n",
        "    print(\"\\tTest Accuracy :\", log['test_accuracy'][-1])\n",
        "    print(\"\\tTrain Loss :\", log['train_loss'][-1])\n",
        "    print(\"\\tTest Loss :\", log['test_loss'][-1])"
      ]
    },
    {
      "cell_type": "markdown",
      "id": "ba43e5e2",
      "metadata": {
        "id": "ba43e5e2"
      },
      "source": [
        "### Learning Rate = 0.0013"
      ]
    },
    {
      "cell_type": "code",
      "execution_count": null,
      "id": "8f436dd5",
      "metadata": {
        "id": "8f436dd5"
      },
      "outputs": [],
      "source": [
        "INPUT_SHAPE = 25*25\n",
        "LEARNING_RATE = 0.0013\n",
        "EPOCHS = 15"
      ]
    },
    {
      "cell_type": "code",
      "source": [
        "TRAINLOADER = [batch for batch in Dataloader(x_train, y_train, n_classes=10, batch_size=BATCH_SIZE, shuffle=False)]\n",
        "TESTLOADER = [batch for batch in Dataloader(x_test, y_test, n_classes=10, batch_size=BATCH_SIZE, shuffle=False)]\n",
        "\n",
        "network = FeedForwardNN(INPUT_SHAPE)\n",
        "network.add_layer(n_neurons=30, activation=Relu(), initial_weight='uniform')\n",
        "network.add_layer(n_neurons=10, activation=Identical(), initial_weight='uniform')\n",
        "network.set_training_param(loss=CrossEntropy(), lr=LEARNING_RATE)\n",
        "\n",
        "log = network.fit(EPOCHS, TRAINLOADER, TESTLOADER, print_results=True)"
      ],
      "metadata": {
        "colab": {
          "base_uri": "https://localhost:8080/"
        },
        "id": "zCfy3ugfqUku",
        "outputId": "ffa7e0ff-8cf1-436e-e1a6-a67e25a7c956"
      },
      "id": "zCfy3ugfqUku",
      "execution_count": null,
      "outputs": [
        {
          "output_type": "stream",
          "name": "stdout",
          "text": [
            "Epoch 1:\n",
            "\tTrain: Average Accuracy: 91.46517194216491\tAverage Loss: 0.31528570072310347\n",
            "\tTest: Average Accuracy: 95.88187839673913\tAverage Loss: 0.1442591053772255\n",
            "Epoch 2:\n",
            "\tTrain: Average Accuracy: 96.6564087534193\tAverage Loss: 0.12077166726250957\n",
            "\tTest: Average Accuracy: 96.78031589673913\tAverage Loss: 0.11186600346107359\n",
            "Epoch 3:\n",
            "\tTrain: Average Accuracy: 97.37446268073467\tAverage Loss: 0.09530018691528373\n",
            "\tTest: Average Accuracy: 97.29301120923913\tAverage Loss: 0.09410834539939399\n",
            "Epoch 4:\n",
            "\tTrain: Average Accuracy: 97.75913442751074\tAverage Loss: 0.07945262457848726\n",
            "\tTest: Average Accuracy: 97.60551120923913\tAverage Loss: 0.08273165063548119\n",
            "Epoch 5:\n",
            "\tTrain: Average Accuracy: 98.02779406017976\tAverage Loss: 0.06867673667689542\n",
            "\tTest: Average Accuracy: 97.84965183423913\tAverage Loss: 0.07517073936516783\n",
            "Epoch 6:\n",
            "\tTrain: Average Accuracy: 98.25615474794841\tAverage Loss: 0.06052337097060745\n",
            "\tTest: Average Accuracy: 97.98148777173913\tAverage Loss: 0.07002722315757938\n",
            "Epoch 7:\n",
            "\tTrain: Average Accuracy: 98.4258987885893\tAverage Loss: 0.054184942294372776\n",
            "\tTest: Average Accuracy: 98.05472995923913\tAverage Loss: 0.06595390129472331\n",
            "Epoch 8:\n",
            "\tTrain: Average Accuracy: 98.56755568581477\tAverage Loss: 0.04909553905418538\n",
            "\tTest: Average Accuracy: 98.23539402173913\tAverage Loss: 0.06291496746454484\n",
            "Epoch 9:\n",
            "\tTrain: Average Accuracy: 98.69700078155529\tAverage Loss: 0.04487650521959101\n",
            "\tTest: Average Accuracy: 98.26957370923913\tAverage Loss: 0.06102689308324015\n",
            "Epoch 10:\n",
            "\tTrain: Average Accuracy: 98.79469519343493\tAverage Loss: 0.041326949945127235\n",
            "\tTest: Average Accuracy: 98.29887058423913\tAverage Loss: 0.05966238965524075\n",
            "Epoch 11:\n",
            "\tTrain: Average Accuracy: 98.89361078546307\tAverage Loss: 0.038305036693236094\n",
            "\tTest: Average Accuracy: 98.31840183423913\tAverage Loss: 0.05885667342682471\n",
            "Epoch 12:\n",
            "\tTrain: Average Accuracy: 98.9681027745213\tAverage Loss: 0.03568743383951557\n",
            "\tTest: Average Accuracy: 98.30375339673913\tAverage Loss: 0.058418135247336675\n",
            "Epoch 13:\n",
            "\tTrain: Average Accuracy: 99.03771004298554\tAverage Loss: 0.033383962269461304\n",
            "\tTest: Average Accuracy: 98.33602241847827\tAverage Loss: 0.057975650692514355\n",
            "Epoch 14:\n",
            "\tTrain: Average Accuracy: 99.11464439234076\tAverage Loss: 0.0312349015230153\n",
            "\tTest: Average Accuracy: 98.31649116847827\tAverage Loss: 0.05767326514875043\n",
            "Epoch 15:\n",
            "\tTrain: Average Accuracy: 99.16104923798359\tAverage Loss: 0.02928686065938289\n",
            "\tTest: Average Accuracy: 98.31649116847827\tAverage Loss: 0.05732351449164945\n"
          ]
        }
      ]
    },
    {
      "cell_type": "code",
      "execution_count": null,
      "id": "a7714262",
      "metadata": {
        "colab": {
          "base_uri": "https://localhost:8080/",
          "height": 656
        },
        "id": "a7714262",
        "outputId": "0683c910-7239-4cb0-f634-85eb0b3e31df"
      },
      "outputs": [
        {
          "output_type": "execute_result",
          "data": {
            "text/plain": [
              "[Text(0.5, 0, 'epochs')]"
            ]
          },
          "metadata": {},
          "execution_count": 86
        },
        {
          "output_type": "display_data",
          "data": {
            "text/plain": [
              "<Figure size 432x288 with 0 Axes>"
            ]
          },
          "metadata": {}
        },
        {
          "output_type": "display_data",
          "data": {
            "text/plain": [
              "<Figure size 1080x720 with 2 Axes>"
            ],
            "image/png": "[encoded data removed]"
          },
          "metadata": {
            "needs_background": "light"
          }
        }
      ],
      "source": [
        "f = plt.figure()    \n",
        "f, axes = plt.subplots(nrows = 1, ncols = 2,figsize=(15,10))\n",
        "axes[0].plot(log['train_accuracy'])\n",
        "axes[0].plot(log['test_accuracy'])\n",
        "axes[0].legend(['train', 'test'])\n",
        "axes[0].set_title(\"accuracy\")\n",
        "axes[0].set(xlabel='epochs')\n",
        "\n",
        "axes[1].plot(log['train_loss'])\n",
        "axes[1].plot(log['test_loss'])\n",
        "axes[1].legend(['train', 'test'])\n",
        "axes[1].set_title(\"loss\")\n",
        "axes[1].set(xlabel='epochs')\n"
      ]
    },
    {
      "cell_type": "markdown",
      "id": "3190c5cb",
      "metadata": {
        "id": "3190c5cb"
      },
      "source": [
        "### Learning Rate = 0.0001"
      ]
    },
    {
      "cell_type": "code",
      "execution_count": null,
      "id": "eaae2b9c",
      "metadata": {
        "id": "eaae2b9c",
        "outputId": "8b8a4dce-70be-452a-de00-59201361c180"
      },
      "outputs": [
        {
          "name": "stdout",
          "output_type": "stream",
          "text": [
            "Epoch 1:\n",
            "\tTrain: Average Accuracy: 0.5860062524423604\tAverage Loss: 1.2827152680939435\n",
            "\tTest: Average Accuracy: 0.8546705163043479\tAverage Loss: 0.5086518588707334\n",
            "Epoch 2:\n",
            "\tTrain: Average Accuracy: 0.8933406604142243\tAverage Loss: 0.3668909541789267\n",
            "\tTest: Average Accuracy: 0.9190726902173914\tAverage Loss: 0.2873625171678838\n",
            "Epoch 3:\n",
            "\tTrain: Average Accuracy: 0.9313716295427902\tAverage Loss: 0.2478204883478615\n",
            "\tTest: Average Accuracy: 0.9345023777173914\tAverage Loss: 0.22954799617355365\n",
            "Epoch 4:\n",
            "\tTrain: Average Accuracy: 0.9416661781946073\tAverage Loss: 0.2089122490999071\n",
            "\tTest: Average Accuracy: 0.9406547214673914\tAverage Loss: 0.20441074505885454\n",
            "Epoch 5:\n",
            "\tTrain: Average Accuracy: 0.9467707112153185\tAverage Loss: 0.18929488793975335\n",
            "\tTest: Average Accuracy: 0.9453910495923914\tAverage Loss: 0.18966906768704955\n",
            "Epoch 6:\n",
            "\tTrain: Average Accuracy: 0.9499579914028918\tAverage Loss: 0.17694809442568007\n",
            "\tTest: Average Accuracy: 0.9489555027173914\tAverage Loss: 0.17977869182084438\n",
            "Epoch 7:\n",
            "\tTrain: Average Accuracy: 0.9528189722547871\tAverage Loss: 0.16827319128263044\n",
            "\tTest: Average Accuracy: 0.9512992527173914\tAverage Loss: 0.17260702487955362\n",
            "Epoch 8:\n",
            "\tTrain: Average Accuracy: 0.9549838804220399\tAverage Loss: 0.16174688939235357\n",
            "\tTest: Average Accuracy: 0.9529594089673914\tAverage Loss: 0.1671167688675685\n",
            "Epoch 9:\n",
            "\tTrain: Average Accuracy: 0.9563149667838999\tAverage Loss: 0.1565956402228849\n",
            "\tTest: Average Accuracy: 0.9542777683423914\tAverage Loss: 0.16273472546665652\n",
            "Epoch 10:\n",
            "\tTrain: Average Accuracy: 0.9574662954279015\tAverage Loss: 0.15238017239161483\n",
            "\tTest: Average Accuracy: 0.9553031589673914\tAverage Loss: 0.15912405719656014\n",
            "Epoch 11:\n",
            "\tTrain: Average Accuracy: 0.9584920867526378\tAverage Loss: 0.14883366140980903\n",
            "\tTest: Average Accuracy: 0.9562308933423914\tAverage Loss: 0.156072768308942\n",
            "Epoch 12:\n",
            "\tTrain: Average Accuracy: 0.9592247948417351\tAverage Loss: 0.14578441525469482\n",
            "\tTest: Average Accuracy: 0.9567680027173914\tAverage Loss: 0.15344174129878546\n",
            "Epoch 13:\n",
            "\tTrain: Average Accuracy: 0.960336068776866\tAverage Loss: 0.14311829970335363\n",
            "\tTest: Average Accuracy: 0.9573539402173914\tAverage Loss: 0.15113829256952543\n",
            "Epoch 14:\n",
            "\tTrain: Average Accuracy: 0.9609222352481438\tAverage Loss: 0.14075480314029648\n",
            "\tTest: Average Accuracy: 0.9575004245923914\tAverage Loss: 0.14909572090262918\n",
            "Epoch 15:\n",
            "\tTrain: Average Accuracy: 0.9615206135209066\tAverage Loss: 0.13863578005439237\n",
            "\tTest: Average Accuracy: 0.9584769870923914\tAverage Loss: 0.1472655679631341\n"
          ]
        }
      ],
      "source": [
        "INPUT_SHAPE = 25*25\n",
        "LEARNING_RATE = 0.0001\n",
        "EPOCHS = 15\n",
        "TRAINLOADER = Dataloader(x_train, y_train, n_classes=10, batch_size=32, shuffle=False)\n",
        "TESTLOADER = Dataloader(x_test, y_test, n_classes=10, batch_size=32, shuffle=False)\n",
        "\n",
        "network = FeedForwardNN(INPUT_SHAPE)\n",
        "network.add_layer(n_neurons=30, input_shape=INPUT_SHAPE, activation=Relu(), weight_initializer='uniform')\n",
        "network.add_layer(n_neurons=10, activation=Identical(), weight_initializer='uniform')\n",
        "network.set_training_param(loss=CrossEntropy(), lr=LEARNING_RATE)\n",
        "\n",
        "log = network.fit(EPOCHS, TRAINLOADER, TESTLOADER, print_results=True)"
      ]
    },
    {
      "cell_type": "code",
      "execution_count": null,
      "id": "9610f58d",
      "metadata": {
        "id": "9610f58d",
        "outputId": "db63527e-8958-48f2-d347-dcf81427a6f4"
      },
      "outputs": [
        {
          "data": {
            "text/plain": [
              "[Text(0.5, 0, 'epochs')]"
            ]
          },
          "execution_count": 20,
          "metadata": {},
          "output_type": "execute_result"
        },
        {
          "data": {
            "text/plain": [
              "<Figure size 432x288 with 0 Axes>"
            ]
          },
          "metadata": {},
          "output_type": "display_data"
        },
        {
          "data": {
            "image/png": "[encoded data removed]",
            "text/plain": [
              "<Figure size 1080x720 with 2 Axes>"
            ]
          },
          "metadata": {
            "needs_background": "light"
          },
          "output_type": "display_data"
        }
      ],
      "source": [
        "f = plt.figure()    \n",
        "f, axes = plt.subplots(nrows = 1, ncols = 2,figsize=(15,10))\n",
        "axes[0].plot(log['train_accuracy'])\n",
        "axes[0].plot(log['test_accuracy'])\n",
        "axes[0].legend(['train', 'test'])\n",
        "axes[0].set_title(\"accuracy\")\n",
        "axes[0].set(xlabel='epochs')\n",
        "\n",
        "axes[1].plot(log['train_loss'])\n",
        "axes[1].plot(log['test_loss'])\n",
        "axes[1].legend(['train', 'test'])\n",
        "axes[1].set_title(\"loss\")\n",
        "axes[1].set(xlabel='epochs')\n"
      ]
    },
    {
      "cell_type": "markdown",
      "id": "b42c0e75",
      "metadata": {
        "id": "b42c0e75"
      },
      "source": [
        "### D) Affection of Activition Function\n",
        "\n",
        "#### Sigmoid"
      ]
    },
    {
      "cell_type": "code",
      "execution_count": null,
      "id": "24d086a5",
      "metadata": {
        "colab": {
          "base_uri": "https://localhost:8080/"
        },
        "id": "24d086a5",
        "outputId": "3266d451-472e-4709-fb33-82a966614dab"
      },
      "outputs": [
        {
          "output_type": "stream",
          "name": "stdout",
          "text": [
            "Epoch 1:\n",
            "\tTrain: Average Accuracy: 9.986615865572489\tAverage Loss: 2.3116560522330336\n",
            "\tTest: Average Accuracy: 10.471509850543478\tAverage Loss: 2.3101820836925038\n",
            "Epoch 2:\n",
            "\tTrain: Average Accuracy: 37.83621531848378\tAverage Loss: 1.7537202499697677\n",
            "\tTest: Average Accuracy: 77.53333050271739\tAverage Loss: 1.0565648823407467\n",
            "Epoch 3:\n",
            "\tTrain: Average Accuracy: 82.41920672137553\tAverage Loss: 0.6982916208544558\n",
            "\tTest: Average Accuracy: 90.52055027173913\tAverage Loss: 0.4588293925682905\n",
            "Epoch 4:\n",
            "\tTrain: Average Accuracy: 92.2866842516608\tAverage Loss: 0.34708696521301574\n",
            "\tTest: Average Accuracy: 92.99613620923913\tAverage Loss: 0.28728474750619587\n",
            "Epoch 5:\n",
            "\tTrain: Average Accuracy: 93.75942751074639\tAverage Loss: 0.2533194946277355\n",
            "\tTest: Average Accuracy: 93.90922214673913\tAverage Loss: 0.23509226667652428\n",
            "Epoch 6:\n",
            "\tTrain: Average Accuracy: 94.50889019148104\tAverage Loss: 0.21464535160534282\n",
            "\tTest: Average Accuracy: 94.48539402173913\tAverage Loss: 0.2082321332572247\n",
            "Epoch 7:\n",
            "\tTrain: Average Accuracy: 95.00468933177022\tAverage Loss: 0.19247816646261692\n",
            "\tTest: Average Accuracy: 94.84672214673913\tAverage Loss: 0.19143641713958215\n",
            "Epoch 8:\n",
            "\tTrain: Average Accuracy: 95.3380715123095\tAverage Loss: 0.1777605584863773\n",
            "\tTest: Average Accuracy: 95.11039402173913\tAverage Loss: 0.17987203627242976\n",
            "Epoch 9:\n",
            "\tTrain: Average Accuracy: 95.62749120750293\tAverage Loss: 0.16716277622993855\n",
            "\tTest: Average Accuracy: 95.29105808423913\tAverage Loss: 0.1714444217134766\n",
            "Epoch 10:\n",
            "\tTrain: Average Accuracy: 95.80700468933178\tAverage Loss: 0.1591031380561546\n",
            "\tTest: Average Accuracy: 95.51566745923913\tAverage Loss: 0.16505623155488708\n",
            "Epoch 11:\n",
            "\tTrain: Average Accuracy: 95.98163345056663\tAverage Loss: 0.15271529091170225\n",
            "\tTest: Average Accuracy: 95.61332370923913\tAverage Loss: 0.1600675150126567\n",
            "Epoch 12:\n",
            "\tTrain: Average Accuracy: 96.12206916764362\tAverage Loss: 0.14749520243607134\n",
            "\tTest: Average Accuracy: 95.75492527173913\tAverage Loss: 0.15608408280103975\n",
            "Epoch 13:\n",
            "\tTrain: Average Accuracy: 96.21854239937475\tAverage Loss: 0.14313247223972103\n",
            "\tTest: Average Accuracy: 95.83305027173913\tAverage Loss: 0.15284973020560483\n",
            "Epoch 14:\n",
            "\tTrain: Average Accuracy: 96.29914028917545\tAverage Loss: 0.13941539942093822\n",
            "\tTest: Average Accuracy: 95.86722995923913\tAverage Loss: 0.15017673743478563\n",
            "Epoch 15:\n",
            "\tTrain: Average Accuracy: 96.37485345838218\tAverage Loss: 0.13617114336501598\n",
            "\tTest: Average Accuracy: 95.91605808423913\tAverage Loss: 0.14789067991889898\n"
          ]
        }
      ],
      "source": [
        "import time\n",
        "t0 = time.time()\n",
        "TRAINLOADER = [batch for batch in Dataloader(x_train, y_train, n_classes=10, batch_size=BATCH_SIZE, shuffle=False)]\n",
        "TESTLOADER = [batch for batch in Dataloader(x_test, y_test, n_classes=10, batch_size=BATCH_SIZE, shuffle=False)]\n",
        "\n",
        "network = FeedForwardNN(INPUT_SHAPE)\n",
        "network.add_layer(n_neurons=30, activation=Sigmoid(), initial_weight='uniform')\n",
        "network.add_layer(n_neurons=10, activation=Identical(), initial_weight='uniform')\n",
        "network.set_training_param(loss=CrossEntropy(), lr=LEARNING_RATE)\n",
        "\n",
        "log = network.fit(EPOCHS, TRAINLOADER, TESTLOADER, print_results=True)\n",
        "t1 = time.time()"
      ]
    },
    {
      "cell_type": "code",
      "source": [
        "print(\"time taken with sigmoid activation function:\",t1-t0)"
      ],
      "metadata": {
        "colab": {
          "base_uri": "https://localhost:8080/"
        },
        "id": "qA40nklJ3s4j",
        "outputId": "7a6fd5b3-d79d-42fe-ff39-fe43163ca0b9"
      },
      "id": "qA40nklJ3s4j",
      "execution_count": null,
      "outputs": [
        {
          "output_type": "stream",
          "name": "stdout",
          "text": [
            "time taken with sigmoid activation function: 352.6741843223572\n"
          ]
        }
      ]
    },
    {
      "cell_type": "code",
      "execution_count": null,
      "id": "8718b2f7",
      "metadata": {
        "colab": {
          "base_uri": "https://localhost:8080/",
          "height": 656
        },
        "id": "8718b2f7",
        "outputId": "88741a30-9454-45ba-efb0-d81a0e734e0d"
      },
      "outputs": [
        {
          "output_type": "execute_result",
          "data": {
            "text/plain": [
              "[Text(0.5, 0, 'epochs')]"
            ]
          },
          "metadata": {},
          "execution_count": 90
        },
        {
          "output_type": "display_data",
          "data": {
            "text/plain": [
              "<Figure size 432x288 with 0 Axes>"
            ]
          },
          "metadata": {}
        },
        {
          "output_type": "display_data",
          "data": {
            "text/plain": [
              "<Figure size 1080x720 with 2 Axes>"
            ],
            "image/png": "[encoded data removed]"
          },
          "metadata": {
            "needs_background": "light"
          }
        }
      ],
      "source": [
        "f = plt.figure()    \n",
        "f, axes = plt.subplots(nrows = 1, ncols = 2,figsize=(15,10))\n",
        "axes[0].plot(log['train_accuracy'])\n",
        "axes[0].plot(log['test_accuracy'])\n",
        "axes[0].legend(['train', 'test'])\n",
        "axes[0].set_title(\"accuracy\")\n",
        "axes[0].set(xlabel='epochs')\n",
        "\n",
        "axes[1].plot(log['train_loss'])\n",
        "axes[1].plot(log['test_loss'])\n",
        "axes[1].legend(['train', 'test'])\n",
        "axes[1].set_title(\"loss\")\n",
        "axes[1].set(xlabel='epochs')\n"
      ]
    },
    {
      "cell_type": "markdown",
      "source": [
        "## Tanh\n"
      ],
      "metadata": {
        "id": "xfVcT8O74UYY"
      },
      "id": "xfVcT8O74UYY"
    },
    {
      "cell_type": "code",
      "execution_count": null,
      "id": "6b0763bc",
      "metadata": {
        "colab": {
          "base_uri": "https://localhost:8080/"
        },
        "id": "6b0763bc",
        "outputId": "fd754069-21d3-4941-fa71-ed83ede0238f"
      },
      "outputs": [
        {
          "output_type": "stream",
          "name": "stdout",
          "text": [
            "Epoch 1:\n",
            "\tTrain: Average Accuracy: 9.969519343493552\tAverage Loss: 2.3123084674427448\n",
            "\tTest: Average Accuracy: 10.471509850543478\tAverage Loss: 2.312343199318265\n",
            "Epoch 2:\n",
            "\tTrain: Average Accuracy: 9.97562524423603\tAverage Loss: 2.3123167196234182\n",
            "\tTest: Average Accuracy: 10.471509850543478\tAverage Loss: 2.312340642565039\n",
            "Epoch 3:\n",
            "\tTrain: Average Accuracy: 9.976846424384526\tAverage Loss: 2.312313995210087\n",
            "\tTest: Average Accuracy: 10.471509850543478\tAverage Loss: 2.312337761536724\n",
            "Epoch 4:\n",
            "\tTrain: Average Accuracy: 9.976846424384526\tAverage Loss: 2.312310858837944\n",
            "\tTest: Average Accuracy: 10.471509850543478\tAverage Loss: 2.31233438423628\n",
            "Epoch 5:\n",
            "\tTrain: Average Accuracy: 9.976846424384526\tAverage Loss: 2.31230708660213\n",
            "\tTest: Average Accuracy: 10.471509850543478\tAverage Loss: 2.312330234500691\n",
            "Epoch 6:\n",
            "\tTrain: Average Accuracy: 9.976846424384526\tAverage Loss: 2.3123022966647055\n",
            "\tTest: Average Accuracy: 10.471509850543478\tAverage Loss: 2.312324817458505\n",
            "Epoch 7:\n",
            "\tTrain: Average Accuracy: 9.976846424384526\tAverage Loss: 2.312295749200143\n",
            "\tTest: Average Accuracy: 10.471509850543478\tAverage Loss: 2.3123171078581137\n",
            "Epoch 8:\n",
            "\tTrain: Average Accuracy: 9.97806760453302\tAverage Loss: 2.3122857209295264\n",
            "\tTest: Average Accuracy: 10.471509850543478\tAverage Loss: 2.312304457232268\n",
            "Epoch 9:\n",
            "\tTrain: Average Accuracy: 9.985394685423994\tAverage Loss: 2.3122666720588203\n",
            "\tTest: Average Accuracy: 10.471509850543478\tAverage Loss: 2.3122764967019416\n",
            "Epoch 10:\n",
            "\tTrain: Average Accuracy: 9.985394685423994\tAverage Loss: 2.3121871384971056\n",
            "\tTest: Average Accuracy: 10.471509850543478\tAverage Loss: 2.3119691460161476\n",
            "Epoch 11:\n",
            "\tTrain: Average Accuracy: 31.142291910902696\tAverage Loss: 1.6425582724441008\n",
            "\tTest: Average Accuracy: 47.82375169836956\tAverage Loss: 1.192344861369456\n",
            "Epoch 12:\n",
            "\tTrain: Average Accuracy: 48.15821610003908\tAverage Loss: 1.1512903776729266\n",
            "\tTest: Average Accuracy: 52.51613451086956\tAverage Loss: 1.1085527069571661\n",
            "Epoch 13:\n",
            "\tTrain: Average Accuracy: 51.501611957796015\tAverage Loss: 1.1069640034129355\n",
            "\tTest: Average Accuracy: 53.4028957201087\tAverage Loss: 1.0930337719192025\n",
            "Epoch 14:\n",
            "\tTrain: Average Accuracy: 63.143268855021496\tAverage Loss: 0.9467049248026442\n",
            "\tTest: Average Accuracy: 78.48951256793478\tAverage Loss: 0.6962882630134468\n",
            "Epoch 15:\n",
            "\tTrain: Average Accuracy: 77.06315943728019\tAverage Loss: 0.6649889120173369\n",
            "\tTest: Average Accuracy: 78.5901409646739\tAverage Loss: 0.6763785758157091\n"
          ]
        }
      ],
      "source": [
        "import time\n",
        "t0 = time.time()\n",
        "TRAINLOADER = [batch for batch in Dataloader(x_train, y_train, n_classes=10, batch_size=BATCH_SIZE, shuffle=False)]\n",
        "TESTLOADER = [batch for batch in Dataloader(x_test, y_test, n_classes=10, batch_size=BATCH_SIZE, shuffle=False)]\n",
        "\n",
        "network = FeedForwardNN(INPUT_SHAPE)\n",
        "network.add_layer(n_neurons=30, activation=Tanh(), initial_weight='uniform')\n",
        "network.add_layer(n_neurons=10, activation=Identical(), initial_weight='uniform')\n",
        "network.set_training_param(loss=CrossEntropy(), lr=LEARNING_RATE)\n",
        "\n",
        "log = network.fit(EPOCHS, TRAINLOADER, TESTLOADER, print_results=True)\n",
        "t1 = time.time()"
      ]
    },
    {
      "cell_type": "code",
      "source": [
        "print(\"time taken with tanh activation function:\",t1-t0)"
      ],
      "metadata": {
        "colab": {
          "base_uri": "https://localhost:8080/"
        },
        "id": "1vFBoe3R4bNr",
        "outputId": "671ecf76-db2d-403c-f841-4bf2c254e858"
      },
      "id": "1vFBoe3R4bNr",
      "execution_count": null,
      "outputs": [
        {
          "output_type": "stream",
          "name": "stdout",
          "text": [
            "time taken with tanh activation function: 352.10930132865906\n"
          ]
        }
      ]
    },
    {
      "cell_type": "code",
      "execution_count": null,
      "id": "0bb2f26b",
      "metadata": {
        "colab": {
          "base_uri": "https://localhost:8080/",
          "height": 656
        },
        "id": "0bb2f26b",
        "outputId": "e5553ff5-4cb2-4276-9fe2-0f38a7a89102"
      },
      "outputs": [
        {
          "output_type": "execute_result",
          "data": {
            "text/plain": [
              "[Text(0.5, 0, 'epochs')]"
            ]
          },
          "metadata": {},
          "execution_count": 93
        },
        {
          "output_type": "display_data",
          "data": {
            "text/plain": [
              "<Figure size 432x288 with 0 Axes>"
            ]
          },
          "metadata": {}
        },
        {
          "output_type": "display_data",
          "data": {
            "text/plain": [
              "<Figure size 1080x720 with 2 Axes>"
            ],
            "image/png": "[encoded data removed]"
          },
          "metadata": {
            "needs_background": "light"
          }
        }
      ],
      "source": [
        "f = plt.figure()    \n",
        "f, axes = plt.subplots(nrows = 1, ncols = 2,figsize=(15,10))\n",
        "axes[0].plot(log['train_accuracy'])\n",
        "axes[0].plot(log['test_accuracy'])\n",
        "axes[0].legend(['train', 'test'])\n",
        "axes[0].set_title(\"accuracy\")\n",
        "axes[0].set(xlabel='epochs')\n",
        "\n",
        "axes[1].plot(log['train_loss'])\n",
        "axes[1].plot(log['test_loss'])\n",
        "axes[1].legend(['train', 'test'])\n",
        "axes[1].set_title(\"loss\")\n",
        "axes[1].set(xlabel='epochs')\n"
      ]
    },
    {
      "cell_type": "markdown",
      "source": [
        "### LeakyReLU "
      ],
      "metadata": {
        "id": "cVJPBb1s4fbi"
      },
      "id": "cVJPBb1s4fbi"
    },
    {
      "cell_type": "code",
      "execution_count": null,
      "id": "a7edc8f5",
      "metadata": {
        "colab": {
          "base_uri": "https://localhost:8080/"
        },
        "id": "a7edc8f5",
        "outputId": "b489624c-d173-4a91-d97f-1433d6463e29"
      },
      "outputs": [
        {
          "output_type": "stream",
          "name": "stdout",
          "text": [
            "Epoch 1:\n",
            "\tTrain: Average Accuracy: 91.31374560375147\tAverage Loss: 0.3206982124676803\n",
            "\tTest: Average Accuracy: 95.78910495923913\tAverage Loss: 0.14958425655199092\n",
            "Epoch 2:\n",
            "\tTrain: Average Accuracy: 96.48910707307542\tAverage Loss: 0.12673768212809394\n",
            "\tTest: Average Accuracy: 96.80472995923913\tAverage Loss: 0.11430794504409061\n",
            "Epoch 3:\n",
            "\tTrain: Average Accuracy: 97.38545330207113\tAverage Loss: 0.09601649453165179\n",
            "\tTest: Average Accuracy: 97.35648777173913\tAverage Loss: 0.09365463674933494\n",
            "Epoch 4:\n",
            "\tTrain: Average Accuracy: 97.83973231731144\tAverage Loss: 0.07823793201099499\n",
            "\tTest: Average Accuracy: 97.63480808423913\tAverage Loss: 0.08210364025487095\n",
            "Epoch 5:\n",
            "\tTrain: Average Accuracy: 98.09373778819851\tAverage Loss: 0.06686088027612998\n",
            "\tTest: Average Accuracy: 97.77640964673913\tAverage Loss: 0.07506817619670865\n",
            "Epoch 6:\n",
            "\tTrain: Average Accuracy: 98.30255959359124\tAverage Loss: 0.05875709073452978\n",
            "\tTest: Average Accuracy: 97.93265964673913\tAverage Loss: 0.069965525701082\n",
            "Epoch 7:\n",
            "\tTrain: Average Accuracy: 98.4759671746776\tAverage Loss: 0.0526939865285887\n",
            "\tTest: Average Accuracy: 98.02055027173913\tAverage Loss: 0.06625893707996514\n",
            "Epoch 8:\n",
            "\tTrain: Average Accuracy: 98.62617233294256\tAverage Loss: 0.04775193111321343\n",
            "\tTest: Average Accuracy: 98.09867527173913\tAverage Loss: 0.06349975082272326\n",
            "Epoch 9:\n",
            "\tTrain: Average Accuracy: 98.73852090660414\tAverage Loss: 0.04361252812503472\n",
            "\tTest: Average Accuracy: 98.20121433423913\tAverage Loss: 0.060795830884735516\n",
            "Epoch 10:\n",
            "\tTrain: Average Accuracy: 98.83499413833529\tAverage Loss: 0.04004508210630961\n",
            "\tTest: Average Accuracy: 98.22074558423913\tAverage Loss: 0.05875194926534426\n",
            "Epoch 11:\n",
            "\tTrain: Average Accuracy: 98.92047674872997\tAverage Loss: 0.03701441662429376\n",
            "\tTest: Average Accuracy: 98.26957370923913\tAverage Loss: 0.057419160302364415\n",
            "Epoch 12:\n",
            "\tTrain: Average Accuracy: 99.00229581867917\tAverage Loss: 0.03442618446821338\n",
            "\tTest: Average Accuracy: 98.25980808423913\tAverage Loss: 0.056467772378566504\n",
            "Epoch 13:\n",
            "\tTrain: Average Accuracy: 99.04625830402502\tAverage Loss: 0.032096762368584546\n",
            "\tTest: Average Accuracy: 98.31351902173913\tAverage Loss: 0.055701328661837524\n",
            "Epoch 14:\n",
            "\tTrain: Average Accuracy: 99.11830793278625\tAverage Loss: 0.030074954878742382\n",
            "\tTest: Average Accuracy: 98.31840183423913\tAverage Loss: 0.05496599753923805\n",
            "Epoch 15:\n",
            "\tTrain: Average Accuracy: 99.17326103946854\tAverage Loss: 0.028250615291132684\n",
            "\tTest: Average Accuracy: 98.32328464673913\tAverage Loss: 0.05439206702879806\n"
          ]
        }
      ],
      "source": [
        "import time\n",
        "t0 = time.time()\n",
        "TRAINLOADER = [batch for batch in Dataloader(x_train, y_train, n_classes=10, batch_size=BATCH_SIZE, shuffle=False)]\n",
        "TESTLOADER = [batch for batch in Dataloader(x_test, y_test, n_classes=10, batch_size=BATCH_SIZE, shuffle=False)]\n",
        "\n",
        "network = FeedForwardNN(INPUT_SHAPE)\n",
        "network.add_layer(n_neurons=30, activation=LeakyRelu(), initial_weight='uniform')\n",
        "network.add_layer(n_neurons=10, activation=Identical(), initial_weight='uniform')\n",
        "network.set_training_param(loss=CrossEntropy(), lr=LEARNING_RATE)\n",
        "\n",
        "log = network.fit(EPOCHS, TRAINLOADER, TESTLOADER, print_results=True)\n",
        "t1 = time.time()"
      ]
    },
    {
      "cell_type": "code",
      "source": [
        "print(\"time taken with leakyrelu activation function:\",t1-t0)"
      ],
      "metadata": {
        "colab": {
          "base_uri": "https://localhost:8080/"
        },
        "id": "Bv7yiXlx4uTW",
        "outputId": "4706be2b-648c-45db-be4b-f50459f7690b"
      },
      "id": "Bv7yiXlx4uTW",
      "execution_count": null,
      "outputs": [
        {
          "output_type": "stream",
          "name": "stdout",
          "text": [
            "time taken with leakyrelu activation function: 348.3432686328888\n"
          ]
        }
      ]
    },
    {
      "cell_type": "code",
      "execution_count": null,
      "id": "31abc0de",
      "metadata": {
        "colab": {
          "base_uri": "https://localhost:8080/",
          "height": 656
        },
        "id": "31abc0de",
        "outputId": "da753a22-e7f8-4ee3-b6f3-5a4c6a7e616b"
      },
      "outputs": [
        {
          "output_type": "execute_result",
          "data": {
            "text/plain": [
              "[Text(0.5, 0, 'epochs')]"
            ]
          },
          "metadata": {},
          "execution_count": 99
        },
        {
          "output_type": "display_data",
          "data": {
            "text/plain": [
              "<Figure size 432x288 with 0 Axes>"
            ]
          },
          "metadata": {}
        },
        {
          "output_type": "display_data",
          "data": {
            "text/plain": [
              "<Figure size 1080x720 with 2 Axes>"
            ],
            "image/png": "[encoded data removed]"
          },
          "metadata": {
            "needs_background": "light"
          }
        }
      ],
      "source": [
        "f = plt.figure()    \n",
        "f, axes = plt.subplots(nrows = 1, ncols = 2,figsize=(15,10))\n",
        "axes[0].plot(log['train_accuracy'])\n",
        "axes[0].plot(log['test_accuracy'])\n",
        "axes[0].legend(['train', 'test'])\n",
        "axes[0].set_title(\"accuracy\")\n",
        "axes[0].set(xlabel='epochs')\n",
        "\n",
        "axes[1].plot(log['train_loss'])\n",
        "axes[1].plot(log['test_loss'])\n",
        "axes[1].legend(['train', 'test'])\n",
        "axes[1].set_title(\"loss\")\n",
        "axes[1].set(xlabel='epochs')\n"
      ]
    },
    {
      "cell_type": "markdown",
      "id": "2602c272",
      "metadata": {
        "id": "2602c272"
      },
      "source": [
        "### E) Affection of Batch Size\n",
        "#### batch_size = 16"
      ]
    },
    {
      "cell_type": "code",
      "source": [
        "BATCH_SIZE = 16"
      ],
      "metadata": {
        "id": "zQw11bOCG1OX"
      },
      "id": "zQw11bOCG1OX",
      "execution_count": null,
      "outputs": []
    },
    {
      "cell_type": "code",
      "execution_count": null,
      "id": "4ef9784e",
      "metadata": {
        "colab": {
          "base_uri": "https://localhost:8080/"
        },
        "id": "4ef9784e",
        "outputId": "1db7af81-8562-44eb-a34f-fb17a05f20d2"
      },
      "outputs": [
        {
          "output_type": "stream",
          "name": "stdout",
          "text": [
            "Epoch 1:\n",
            "\tTrain: Average Accuracy: 91.07195193434936\tAverage Loss: 0.3099919225465764\n",
            "\tTest: Average Accuracy: 95.9375\tAverage Loss: 0.1480392134392654\n",
            "Epoch 2:\n",
            "\tTrain: Average Accuracy: 96.6295427901524\tAverage Loss: 0.12370591379353645\n",
            "\tTest: Average Accuracy: 96.953125\tAverage Loss: 0.11018277877948879\n",
            "Epoch 3:\n",
            "\tTrain: Average Accuracy: 97.45017584994139\tAverage Loss: 0.0941687411753295\n",
            "\tTest: Average Accuracy: 97.5341796875\tAverage Loss: 0.08885751911555137\n",
            "Epoch 4:\n",
            "\tTrain: Average Accuracy: 97.8800312622118\tAverage Loss: 0.07656282986564734\n",
            "\tTest: Average Accuracy: 97.8466796875\tAverage Loss: 0.07653241345770831\n",
            "Epoch 5:\n",
            "\tTrain: Average Accuracy: 98.16212387651426\tAverage Loss: 0.06520844699760131\n",
            "\tTest: Average Accuracy: 98.046875\tAverage Loss: 0.0684425465187825\n",
            "Epoch 6:\n",
            "\tTrain: Average Accuracy: 98.3453008987886\tAverage Loss: 0.057141582643479245\n",
            "\tTest: Average Accuracy: 98.1982421875\tAverage Loss: 0.0633286057948895\n",
            "Epoch 7:\n",
            "\tTrain: Average Accuracy: 98.54313208284486\tAverage Loss: 0.050954516643081926\n",
            "\tTest: Average Accuracy: 98.28125\tAverage Loss: 0.059525646888383056\n",
            "Epoch 8:\n",
            "\tTrain: Average Accuracy: 98.64937475576397\tAverage Loss: 0.04611258722783258\n",
            "\tTest: Average Accuracy: 98.33984375\tAverage Loss: 0.056673164661565856\n",
            "Epoch 9:\n",
            "\tTrain: Average Accuracy: 98.74340562719813\tAverage Loss: 0.042211398136769857\n",
            "\tTest: Average Accuracy: 98.359375\tAverage Loss: 0.05458051017900454\n",
            "Epoch 10:\n",
            "\tTrain: Average Accuracy: 98.82766705744432\tAverage Loss: 0.03890978851499525\n",
            "\tTest: Average Accuracy: 98.388671875\tAverage Loss: 0.05299609066808535\n",
            "Epoch 11:\n",
            "\tTrain: Average Accuracy: 98.93390973036342\tAverage Loss: 0.03607419400584147\n",
            "\tTest: Average Accuracy: 98.408203125\tAverage Loss: 0.051794251325978855\n",
            "Epoch 12:\n",
            "\tTrain: Average Accuracy: 99.00107463853068\tAverage Loss: 0.03368992798315217\n",
            "\tTest: Average Accuracy: 98.427734375\tAverage Loss: 0.05081805882641048\n",
            "Epoch 13:\n",
            "\tTrain: Average Accuracy: 99.08289370847987\tAverage Loss: 0.03150845957072738\n",
            "\tTest: Average Accuracy: 98.4375\tAverage Loss: 0.05009470497791766\n",
            "Epoch 14:\n",
            "\tTrain: Average Accuracy: 99.13784681516218\tAverage Loss: 0.02960359096179636\n",
            "\tTest: Average Accuracy: 98.4765625\tAverage Loss: 0.049609626876416124\n",
            "Epoch 15:\n",
            "\tTrain: Average Accuracy: 99.19890582258695\tAverage Loss: 0.02789231415625428\n",
            "\tTest: Average Accuracy: 98.4814453125\tAverage Loss: 0.049210603267806616\n"
          ]
        }
      ],
      "source": [
        "TRAINLOADER = [batch for batch in Dataloader(x_train, y_train, n_classes=10, batch_size=BATCH_SIZE, shuffle=False)]\n",
        "TESTLOADER = [batch for batch in Dataloader(x_test, y_test, n_classes=10, batch_size=BATCH_SIZE, shuffle=False)]\n",
        "\n",
        "network = FeedForwardNN(INPUT_SHAPE)\n",
        "network.add_layer(n_neurons=30, activation=LeakyRelu(), initial_weight='uniform')\n",
        "network.add_layer(n_neurons=10, activation=Identical(), initial_weight='uniform')\n",
        "network.set_training_param(loss=CrossEntropy(), lr=LEARNING_RATE)\n",
        "\n",
        "log = network.fit(EPOCHS, TRAINLOADER, TESTLOADER, print_results=True)"
      ]
    },
    {
      "cell_type": "code",
      "execution_count": null,
      "id": "2e24b60b",
      "metadata": {
        "colab": {
          "base_uri": "https://localhost:8080/",
          "height": 656
        },
        "id": "2e24b60b",
        "outputId": "14392896-0300-49fa-ae01-841e0aca1055"
      },
      "outputs": [
        {
          "output_type": "execute_result",
          "data": {
            "text/plain": [
              "[Text(0.5, 0, 'epochs')]"
            ]
          },
          "metadata": {},
          "execution_count": 102
        },
        {
          "output_type": "display_data",
          "data": {
            "text/plain": [
              "<Figure size 432x288 with 0 Axes>"
            ]
          },
          "metadata": {}
        },
        {
          "output_type": "display_data",
          "data": {
            "text/plain": [
              "<Figure size 1080x720 with 2 Axes>"
            ],
            "image/png": "[encoded data removed]"
          },
          "metadata": {
            "needs_background": "light"
          }
        }
      ],
      "source": [
        "f = plt.figure()    \n",
        "f, axes = plt.subplots(nrows = 1, ncols = 2,figsize=(15,10))\n",
        "axes[0].plot(log['train_accuracy'])\n",
        "axes[0].plot(log['test_accuracy'])\n",
        "axes[0].legend(['train', 'test'])\n",
        "axes[0].set_title(\"accuracy\")\n",
        "axes[0].set(xlabel='epochs')\n",
        "\n",
        "axes[1].plot(log['train_loss'])\n",
        "axes[1].plot(log['test_loss'])\n",
        "axes[1].legend(['train', 'test'])\n",
        "axes[1].set_title(\"loss\")\n",
        "axes[1].set(xlabel='epochs')\n"
      ]
    },
    {
      "cell_type": "code",
      "source": [
        "BATCH_SIZE = 256"
      ],
      "metadata": {
        "id": "1kavvr1THMDY"
      },
      "id": "1kavvr1THMDY",
      "execution_count": null,
      "outputs": []
    },
    {
      "cell_type": "code",
      "execution_count": null,
      "id": "79a40cbd",
      "metadata": {
        "colab": {
          "base_uri": "https://localhost:8080/"
        },
        "id": "79a40cbd",
        "outputId": "3742a9bd-e8d5-4b8f-d9b2-0e7735c8a7ec"
      },
      "outputs": [
        {
          "output_type": "stream",
          "name": "stdout",
          "text": [
            "Epoch 1:\n",
            "\tTrain: Average Accuracy: 18.445465509792626\tAverage Loss: 2.26492197252636\n",
            "\tTest: Average Accuracy: 23.960692370951417\tAverage Loss: 2.047323548349774\n",
            "Epoch 2:\n",
            "\tTrain: Average Accuracy: 27.5665030061924\tAverage Loss: 2.0027071762755013\n",
            "\tTest: Average Accuracy: 37.05809558451417\tAverage Loss: 1.8274022390536842\n",
            "Epoch 3:\n",
            "\tTrain: Average Accuracy: 55.908934421802996\tAverage Loss: 1.2346967357919516\n",
            "\tTest: Average Accuracy: 67.34327555668017\tAverage Loss: 0.8726362346308555\n",
            "Epoch 4:\n",
            "\tTrain: Average Accuracy: 68.65965671802995\tAverage Loss: 0.9399610203051736\n",
            "\tTest: Average Accuracy: 79.84426398026315\tAverage Loss: 0.7052317761952995\n",
            "Epoch 5:\n",
            "\tTrain: Average Accuracy: 77.42020426807315\tAverage Loss: 0.7273741817530107\n",
            "\tTest: Average Accuracy: 82.70159887398786\tAverage Loss: 0.6109505172092909\n",
            "Epoch 6:\n",
            "\tTrain: Average Accuracy: 82.24107592885944\tAverage Loss: 0.5881284770520819\n",
            "\tTest: Average Accuracy: 87.48454105516194\tAverage Loss: 0.4632494609891265\n",
            "Epoch 7:\n",
            "\tTrain: Average Accuracy: 89.27408104118663\tAverage Loss: 0.3594050730353097\n",
            "\tTest: Average Accuracy: 90.64967105263159\tAverage Loss: 0.30894724842242977\n",
            "Epoch 8:\n",
            "\tTrain: Average Accuracy: 91.61238569268433\tAverage Loss: 0.2805520707113713\n",
            "\tTest: Average Accuracy: 91.7586032388664\tAverage Loss: 0.2655015849972996\n",
            "Epoch 9:\n",
            "\tTrain: Average Accuracy: 92.35867408014113\tAverage Loss: 0.2551182677473099\n",
            "\tTest: Average Accuracy: 92.64310396634616\tAverage Loss: 0.23938507382165475\n",
            "Epoch 10:\n",
            "\tTrain: Average Accuracy: 93.11817081293202\tAverage Loss: 0.22790929662994666\n",
            "\tTest: Average Accuracy: 93.31258302758097\tAverage Loss: 0.22185783853129265\n",
            "Epoch 11:\n",
            "\tTrain: Average Accuracy: 93.80198395197291\tAverage Loss: 0.20783813875445376\n",
            "\tTest: Average Accuracy: 93.98623323633603\tAverage Loss: 0.20455528240481965\n",
            "Epoch 12:\n",
            "\tTrain: Average Accuracy: 94.36372677851382\tAverage Loss: 0.19137981006012003\n",
            "\tTest: Average Accuracy: 94.40180604757084\tAverage Loss: 0.1922946477518131\n",
            "Epoch 13:\n",
            "\tTrain: Average Accuracy: 94.65547482538882\tAverage Loss: 0.18223246803099138\n",
            "\tTest: Average Accuracy: 94.65136323380567\tAverage Loss: 0.18557232344470007\n",
            "Epoch 14:\n",
            "\tTrain: Average Accuracy: 94.85610891597062\tAverage Loss: 0.1765631198740099\n",
            "\tTest: Average Accuracy: 94.77831635880567\tAverage Loss: 0.18213949915590263\n",
            "Epoch 15:\n",
            "\tTrain: Average Accuracy: 95.03555227534562\tAverage Loss: 0.17202236965609127\n",
            "\tTest: Average Accuracy: 94.8663849000506\tAverage Loss: 0.17894773716250553\n"
          ]
        }
      ],
      "source": [
        "TRAINLOADER = [batch for batch in Dataloader(x_train, y_train, n_classes=10, batch_size=BATCH_SIZE, shuffle=False)]\n",
        "TESTLOADER = [batch for batch in Dataloader(x_test, y_test, n_classes=10, batch_size=BATCH_SIZE, shuffle=False)]\n",
        "\n",
        "network = FeedForwardNN(INPUT_SHAPE)\n",
        "network.add_layer(n_neurons=30, activation=LeakyRelu(), initial_weight='uniform')\n",
        "network.add_layer(n_neurons=10, activation=Identical(), initial_weight='uniform')\n",
        "network.set_training_param(loss=CrossEntropy(), lr=LEARNING_RATE)\n",
        "\n",
        "log = network.fit(EPOCHS, TRAINLOADER, TESTLOADER, print_results=True)"
      ]
    },
    {
      "cell_type": "code",
      "execution_count": null,
      "id": "41ac18e2",
      "metadata": {
        "colab": {
          "base_uri": "https://localhost:8080/",
          "height": 656
        },
        "id": "41ac18e2",
        "outputId": "7d5e8468-723e-406a-d2cb-f0426efe5fa6"
      },
      "outputs": [
        {
          "output_type": "execute_result",
          "data": {
            "text/plain": [
              "[Text(0.5, 0, 'epochs')]"
            ]
          },
          "metadata": {},
          "execution_count": 105
        },
        {
          "output_type": "display_data",
          "data": {
            "text/plain": [
              "<Figure size 432x288 with 0 Axes>"
            ]
          },
          "metadata": {}
        },
        {
          "output_type": "display_data",
          "data": {
            "text/plain": [
              "<Figure size 1080x720 with 2 Axes>"
            ],
            "image/png": "[encoded data removed]"
          },
          "metadata": {
            "needs_background": "light"
          }
        }
      ],
      "source": [
        "f = plt.figure()    \n",
        "f, axes = plt.subplots(nrows = 1, ncols = 2,figsize=(15,10))\n",
        "axes[0].plot(log['train_accuracy'])\n",
        "axes[0].plot(log['test_accuracy'])\n",
        "axes[0].legend(['train', 'test'])\n",
        "axes[0].set_title(\"accuracy\")\n",
        "axes[0].set(xlabel='epochs')\n",
        "\n",
        "axes[1].plot(log['train_loss'])\n",
        "axes[1].plot(log['test_loss'])\n",
        "axes[1].legend(['train', 'test'])\n",
        "axes[1].set_title(\"loss\")\n",
        "axes[1].set(xlabel='epochs')\n"
      ]
    }
  ],
  "metadata": {
    "kernelspec": {
      "display_name": "Python 3",
      "language": "python",
      "name": "python3"
    },
    "language_info": {
      "codemirror_mode": {
        "name": "ipython",
        "version": 3
      },
      "file_extension": ".py",
      "mimetype": "text/x-python",
      "name": "python",
      "nbconvert_exporter": "python",
      "pygments_lexer": "ipython3",
      "version": "3.8.8"
    },
    "colab": {
      "provenance": [],
      "collapsed_sections": [
        "3190c5cb"
      ]
    }
  },
  "nbformat": 4,
  "nbformat_minor": 5
}